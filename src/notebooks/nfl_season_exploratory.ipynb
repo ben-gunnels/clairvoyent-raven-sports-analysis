{
 "cells": [
  {
   "cell_type": "code",
   "execution_count": null,
   "id": "3507002f",
   "metadata": {
    "vscode": {
     "languageId": "markdown"
    }
   },
   "outputs": [],
   "source": [
    "# 🏈 NFL Savant Seasonal Data Exploration\n",
    "\n",
    "This notebook explores and analyzes seasonal data from NFL Savant. We'll examine player statistics, team performance, and uncover insights using Python data analysis tools."
   ]
  },
  {
   "cell_type": "code",
   "execution_count": 1,
   "id": "45905032",
   "metadata": {},
   "outputs": [
    {
     "name": "stderr",
     "output_type": "stream",
     "text": [
      "c:\\Users\\bengu\\anaconda3\\lib\\site-packages\\pandas\\core\\computation\\expressions.py:21: UserWarning: Pandas requires version '2.8.4' or newer of 'numexpr' (version '2.8.1' currently installed).\n",
      "  from pandas.core.computation.check import NUMEXPR_INSTALLED\n",
      "c:\\Users\\bengu\\anaconda3\\lib\\site-packages\\pandas\\core\\arrays\\masked.py:60: UserWarning: Pandas requires version '1.3.6' or newer of 'bottleneck' (version '1.3.4' currently installed).\n",
      "  from pandas.core import (\n"
     ]
    }
   ],
   "source": [
    "import pandas as pd\n",
    "import numpy as np"
   ]
  },
  {
   "cell_type": "code",
   "execution_count": 1,
   "id": "9b18c318",
   "metadata": {},
   "outputs": [],
   "source": [
    "link = \"https://www.pro-football-reference.com/players/A/AlleJo02/gamelog/2023/\"\n",
    "\n",
    "player_id = link.split(\"/\")[-3]"
   ]
  }
 ],
 "metadata": {
  "kernelspec": {
   "display_name": "cfeproj-oIABPDjj",
   "language": "python",
   "name": "python3"
  },
  "language_info": {
   "codemirror_mode": {
    "name": "ipython",
    "version": 3
   },
   "file_extension": ".py",
   "mimetype": "text/x-python",
   "name": "python",
   "nbconvert_exporter": "python",
   "pygments_lexer": "ipython3",
   "version": "3.10.2"
  }
 },
 "nbformat": 4,
 "nbformat_minor": 5
}
