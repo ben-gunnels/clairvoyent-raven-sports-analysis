{
 "cells": [
  {
   "cell_type": "markdown",
   "id": "82f25c6f",
   "metadata": {},
   "source": [
    "# NFL Fantasy Football Projection Model Using XGBoost\n",
    "\n",
    "This notebook presents a comprehensive workflow for building an NFL fantasy football projection model using XGBoost. Data sources include Yahoo, Pro-Football Reference, and SportsDataIO. The goal is to leverage advanced machine learning techniques and rich datasets to generate accurate player projections for fantasy football analysis and decision-making.\n",
    "\n",
    "This notebook will use weekly data from the 2024 NFL Regular Season. "
   ]
  },
  {
   "cell_type": "code",
   "execution_count": 2,
   "id": "90518483",
   "metadata": {},
   "outputs": [
    {
     "name": "stdout",
     "output_type": "stream",
     "text": [
      "Project Root: c:\\Users\\bengu\\Documents\\Sports Analysis Project\\clairvoyent-raven-sports-analysis\\src\n",
      "Sys Path Before: ['c:\\\\Users\\\\bengu\\\\Documents\\\\Sports Analysis Project\\\\clairvoyent-raven-sports-analysis\\\\src', 'C:\\\\Users\\\\bengu\\\\AppData\\\\Local\\\\Programs\\\\Python\\\\Python310\\\\python310.zip', 'C:\\\\Users\\\\bengu\\\\AppData\\\\Local\\\\Programs\\\\Python\\\\Python310\\\\DLLs', 'C:\\\\Users\\\\bengu\\\\AppData\\\\Local\\\\Programs\\\\Python\\\\Python310\\\\lib', 'C:\\\\Users\\\\bengu\\\\AppData\\\\Local\\\\Programs\\\\Python\\\\Python310', 'c:\\\\Users\\\\bengu\\\\.virtualenvs\\\\cfeproj-oIABPDjj', '', 'c:\\\\Users\\\\bengu\\\\.virtualenvs\\\\cfeproj-oIABPDjj\\\\lib\\\\site-packages', 'c:\\\\Users\\\\bengu\\\\.virtualenvs\\\\cfeproj-oIABPDjj\\\\lib\\\\site-packages\\\\win32', 'c:\\\\Users\\\\bengu\\\\.virtualenvs\\\\cfeproj-oIABPDjj\\\\lib\\\\site-packages\\\\win32\\\\lib', 'c:\\\\Users\\\\bengu\\\\.virtualenvs\\\\cfeproj-oIABPDjj\\\\lib\\\\site-packages\\\\Pythonwin']\n"
     ]
    },
    {
     "data": {
      "text/plain": [
       "True"
      ]
     },
     "execution_count": 2,
     "metadata": {},
     "output_type": "execute_result"
    }
   ],
   "source": [
    "import pandas as pd\n",
    "import numpy as np\n",
    "import os\n",
    "import sys\n",
    "\n",
    "project_root = os.path.abspath(os.path.join(os.getcwd(), os.pardir))\n",
    "print(f\"Project Root: {project_root}\")\n",
    "print(\"Sys Path Before:\", sys.path)\n",
    "if project_root not in sys.path:\n",
    "    print(\"Inserting project root to sys.path\")\n",
    "    sys.path.insert(0, project_root)\n",
    "\n",
    "# Now import\n",
    "from data_api import SportsDataIO\n",
    "from data_api import Yahoo\n",
    "from utils import describe_endpoint\n",
    "from yahoo_helpers import get_all_players, get_player_details, get_player_stats\n",
    "\n",
    "from dotenv import load_dotenv\n",
    "load_dotenv()"
   ]
  },
  {
   "cell_type": "code",
   "execution_count": 3,
   "id": "1ec74be3",
   "metadata": {},
   "outputs": [
    {
     "name": "stderr",
     "output_type": "stream",
     "text": [
      "[2025-09-26 20:01:17,459 DEBUG] [yahoo_oauth.oauth.__init__] Checking \n",
      "[2025-09-26 20:01:17,467 DEBUG] [yahoo_oauth.oauth.token_is_valid] ELAPSED TIME : 15729.07385635376\n",
      "[2025-09-26 20:01:17,468 DEBUG] [yahoo_oauth.oauth.token_is_valid] TOKEN HAS EXPIRED\n",
      "[2025-09-26 20:01:17,469 DEBUG] [yahoo_oauth.oauth.refresh_access_token] REFRESHING TOKEN\n"
     ]
    },
    {
     "name": "stdout",
     "output_type": "stream",
     "text": [
      "Getting league key\n",
      "League key: 461.l.242497\n"
     ]
    }
   ],
   "source": [
    "# Initialize API wrappers\n",
    "sdi_api = SportsDataIO(api_key=os.getenv(\"SPORTS_DATA_IO_API_KEY\"))\n",
    "yahoo_api = Yahoo(os.getenv(\"YAHOO_OAUTH_KEYS_PATH\"))"
   ]
  },
  {
   "cell_type": "markdown",
   "id": "011b922e",
   "metadata": {},
   "source": [
    "## Extract and Clean Necessary Data\n",
    "\n",
    "Needed data\n",
    "\n",
    "* 2024 Regular Season Weekly Stats (Sports Data IO)\n",
    "* 2023 Regular Season Yearly Stats (Yahoo Fantasy)\n"
   ]
  },
  {
   "cell_type": "code",
   "execution_count": 19,
   "id": "3d318ae3",
   "metadata": {},
   "outputs": [
    {
     "name": "stdout",
     "output_type": "stream",
     "text": [
      "Total players loaded: 2158\n",
      "Error fetching details for A'Shawn Robinson: ('Connection aborted.', RemoteDisconnected('Remote end closed connection without response'))\n"
     ]
    }
   ],
   "source": [
    "all_players = get_all_players()\n",
    "print(f\"Total players loaded: {len(all_players)}\")\n",
    "\n",
    "# Get details for a sample of players\n",
    "sample_player_details = get_player_details(yahoo_api, all_players[:5])\n",
    "\n",
    "player_ids = []\n",
    "for player in sample_player_details:\n",
    "    player_ids.append(player[\"player_id\"])\n",
    "\n",
    "sample_player_stats = get_player_stats(yahoo_api, [player_id for player_id in player_ids], req_type=\"season\", season=2023)"
   ]
  },
  {
   "cell_type": "code",
   "execution_count": 16,
   "id": "d162f1d2",
   "metadata": {},
   "outputs": [],
   "source": [
    "player_game_stats_2024 = sdi_api.fantasy.get_player_game_stats(season=\"2024REG\", week=1)"
   ]
  }
 ],
 "metadata": {
  "kernelspec": {
   "display_name": "cfeproj-oIABPDjj",
   "language": "python",
   "name": "python3"
  },
  "language_info": {
   "codemirror_mode": {
    "name": "ipython",
    "version": 3
   },
   "file_extension": ".py",
   "mimetype": "text/x-python",
   "name": "python",
   "nbconvert_exporter": "python",
   "pygments_lexer": "ipython3",
   "version": "3.10.2"
  }
 },
 "nbformat": 4,
 "nbformat_minor": 5
}
