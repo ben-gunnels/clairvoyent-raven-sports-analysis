{
 "cells": [
  {
   "cell_type": "markdown",
   "id": "da4ab1a2",
   "metadata": {},
   "source": [
    "# NFL Fantasy Football Projection Model Using an RNN\n",
    "\n",
    "This notebook presents a comprehensive workflow for building an NFL fantasy football projection model using an RNN. Data sources include Yahoo, Pro-Football Reference, SportsDataIO, and NFLVerse. The goal is to leverage advanced machine learning techniques and rich datasets to generate accurate player projections for fantasy football analysis and decision-making."
   ]
  },
  {
   "cell_type": "code",
   "execution_count": 2,
   "id": "f5313a94",
   "metadata": {},
   "outputs": [
    {
     "name": "stdout",
     "output_type": "stream",
     "text": [
      "Project Root: c:\\Users\\bengu\\Documents\\NFL Data Project\\clairvoyent-raven-sports-analysis\\src\n",
      "Sys Path Before: ['C:\\\\Users\\\\bengu\\\\AppData\\\\Local\\\\Programs\\\\Python\\\\Python310\\\\python310.zip', 'C:\\\\Users\\\\bengu\\\\AppData\\\\Local\\\\Programs\\\\Python\\\\Python310\\\\DLLs', 'C:\\\\Users\\\\bengu\\\\AppData\\\\Local\\\\Programs\\\\Python\\\\Python310\\\\lib', 'C:\\\\Users\\\\bengu\\\\AppData\\\\Local\\\\Programs\\\\Python\\\\Python310', 'c:\\\\Users\\\\bengu\\\\.virtualenvs\\\\cfeproj-oIABPDjj', '', 'c:\\\\Users\\\\bengu\\\\.virtualenvs\\\\cfeproj-oIABPDjj\\\\lib\\\\site-packages', 'c:\\\\Users\\\\bengu\\\\.virtualenvs\\\\cfeproj-oIABPDjj\\\\lib\\\\site-packages\\\\win32', 'c:\\\\Users\\\\bengu\\\\.virtualenvs\\\\cfeproj-oIABPDjj\\\\lib\\\\site-packages\\\\win32\\\\lib', 'c:\\\\Users\\\\bengu\\\\.virtualenvs\\\\cfeproj-oIABPDjj\\\\lib\\\\site-packages\\\\Pythonwin']\n",
      "Inserting project root to sys.path\n"
     ]
    },
    {
     "data": {
      "text/plain": [
       "True"
      ]
     },
     "execution_count": 2,
     "metadata": {},
     "output_type": "execute_result"
    }
   ],
   "source": [
    "import pandas as pd\n",
    "import numpy as np\n",
    "import os\n",
    "import sys\n",
    "\n",
    "project_root = os.path.abspath(os.path.join(os.getcwd(), os.pardir))\n",
    "print(f\"Project Root: {project_root}\")\n",
    "print(\"Sys Path Before:\", sys.path)\n",
    "if project_root not in sys.path:\n",
    "    print(\"Inserting project root to sys.path\")\n",
    "    sys.path.insert(0, project_root)\n",
    "\n",
    "# Now import\n",
    "from data_api import SportsDataIO, Yahoo, PFR, POSITION_PLAYER_STAT_PROJECTION_DATA_DICT\n",
    "import utils\n",
    "import yahoo_helpers\n",
    "\n",
    "from dotenv import load_dotenv\n",
    "load_dotenv()"
   ]
  },
  {
   "cell_type": "markdown",
   "id": "b1806398",
   "metadata": {},
   "source": [
    "## Import and clean data from nflverse source"
   ]
  },
  {
   "cell_type": "code",
   "execution_count": 3,
   "id": "fbca551e",
   "metadata": {},
   "outputs": [],
   "source": [
    "NFLVERSE_DATA_PATH = r\"C:\\Users\\bengu\\Documents\\Sports Analysis Project\\clairvoyent-raven-sports-analysis\\data\\nfl_player_stats_cleaned.csv\"\n",
    "NFLVERSE_TEAMS_DATA_PATH = r\"C:\\Users\\bengu\\Documents\\Sports Analysis Project\\clairvoyent-raven-sports-analysis\\data\\nfl_team_stats.xlsx\"\n",
    "NFLVERSE_INJURIES_PATH = r\"C:\\Users\\bengu\\Documents\\Sports Analysis Project\\clairvoyent-raven-sports-analysis\\data\\nfl_injuries.xlsx\"\n",
    "NFLVERSE_DEPTH_CHART_PATH = r\"C:\\Users\\bengu\\Documents\\NFL Data Project\\clairvoyent-raven-sports-analysis\\data\\nfl_depth_charts.xlsx\"\n",
    "\n",
    "all_players_df = pd.read_csv(NFLVERSE_DATA_PATH)\n",
    "all_teams_df = pd.read_excel(NFLVERSE_TEAMS_DATA_PATH, engine=\"openpyxl\")\n",
    "injuries_df = pd.read_excel(NFLVERSE_INJURIES_PATH, engine=\"openpyxl\")\n",
    "depth_df = pd.read_excel(NFLVERSE_DEPTH_CHART_PATH, engine=\"openpyxl\")"
   ]
  },
  {
   "cell_type": "code",
   "execution_count": 4,
   "id": "6eb79419",
   "metadata": {},
   "outputs": [],
   "source": [
    "from sklearn.preprocessing import OneHotEncoder\n",
    "\n",
    "if \"gsis_id\" in injuries_df.columns:\n",
    "   injuries_df = injuries_df.rename({\"gsis_id\": \"player_id\"}, axis=1)\n",
    "\n",
    "filtered_injuries_df = injuries_df[[\"season\", \"week\", \"player_id\", \"report_status\", \"practice_status\"]]\n",
    "\n",
    "encoder = OneHotEncoder(handle_unknown='ignore', sparse_output=False)\n",
    "\n",
    "X_categorical_injury = filtered_injuries_df[[\"report_status\", \"practice_status\"]]\n",
    "\n",
    "encoded_data = encoder.fit_transform(X_categorical_injury)\n",
    "\n",
    "encoded_feature_names = encoder.get_feature_names_out(X_categorical_injury.columns)\n",
    "\n",
    "encoded_df = pd.DataFrame(encoded_data, columns=encoded_feature_names)\n",
    "\n",
    "filtered_injuries_df = pd.concat([filtered_injuries_df[[\"season\", \"week\", \"player_id\"]], encoded_df], axis=1)"
   ]
  },
  {
   "cell_type": "code",
   "execution_count": 5,
   "id": "7cec1d57",
   "metadata": {},
   "outputs": [],
   "source": [
    "if \"gsis_id\" in depth_df.columns:\n",
    "    filtered_depth_df = depth_df.rename({\"gsis_id\": \"player_id\"}, axis=1)\n",
    "\n",
    "filtered_depth_df = filtered_depth_df[[\"season\", \"week\", \"player_id\", \"depth_team\"]]\n",
    "filtered_depth_df = filtered_depth_df.dropna(subset=[\"season\", \"week\"])\n",
    "filtered_depth_df[\"week\"] = filtered_depth_df[\"week\"].astype(int)\n",
    "filtered_depth_df[\"season\"] = filtered_depth_df[\"season\"].astype(int)"
   ]
  },
  {
   "cell_type": "code",
   "execution_count": 6,
   "id": "4bc74028",
   "metadata": {},
   "outputs": [],
   "source": [
    "\"\"\"Merge depth chart information and injury information onto the all players data frame.\n",
    "\"\"\"\n",
    "\n",
    "all_players_df = all_players_df.merge(filtered_injuries_df, how=\"left\", on=[\"player_id\", \"season\", \"week\"])\n",
    "\n",
    "all_players_df = all_players_df.merge(filtered_depth_df, how=\"left\", on=[\"player_id\", \"season\", \"week\"])"
   ]
  },
  {
   "cell_type": "code",
   "execution_count": 7,
   "id": "ce8161b7",
   "metadata": {},
   "outputs": [],
   "source": [
    "# Fill none values for depth chart with the average value.\n",
    "# Fill the injury encoded values with 0 because it's safe to assume that no injury occurred\n",
    "\n",
    "depth_mean = all_players_df[\"depth_team\"].mean()\n",
    "all_players_df[\"depth_team\"] = all_players_df[\"depth_team\"].fillna(depth_mean)\n",
    "all_players_df[encoded_feature_names] = all_players_df[encoded_feature_names].fillna(0)"
   ]
  },
  {
   "cell_type": "code",
   "execution_count": 8,
   "id": "8e7775d4",
   "metadata": {},
   "outputs": [],
   "source": [
    "column_categories = {\n",
    "    \"standard\": {\n",
    "        \"player_id\",\n",
    "        \"player_name\",\n",
    "        \"position\",\n",
    "        \"position_group\",\n",
    "        \"season\",\n",
    "        \"week\",\n",
    "        \"season_type\",\n",
    "        \"team\",\n",
    "        \"opponent_team\",\n",
    "        \"pacr\",\n",
    "        \"report_status_Doubtful\",\n",
    "        \"report_status_Note\",\n",
    "        \"report_status_Out\",\n",
    "        \"report_status_Probable\",\n",
    "        \"report_status_Questionable\",\n",
    "        \"report_status_nan\",\n",
    "        \"practice_status_\\n    \",\n",
    "        \"practice_status_Did Not Participate In Practice\",\n",
    "        \"practice_status_Full Participation in Practice\",\n",
    "        \"practice_status_Limited Participation in Practice\",\n",
    "        \"practice_status_Note\",\n",
    "        \"practice_status_Out (Definitely Will Not Play)\",\n",
    "        \"depth_team\", \n",
    "    },\n",
    "    \"passing\": {\n",
    "        \"completions\",\n",
    "        \"attempts\",\n",
    "        \"passing_yards\",\n",
    "        \"passing_tds\",\n",
    "        \"passing_interceptions\",\n",
    "        \"sacks_suffered\",\n",
    "        \"sack_yards_lost\",\n",
    "        \"sack_fumbles\",\n",
    "        \"sack_fumbles_lost\",\n",
    "        \"passing_air_yards\",\n",
    "        \"passing_yards_after_catch\",\n",
    "        \"passing_first_downs\",\n",
    "        \"passing_epa\",\n",
    "        \"passing_cpoe\",\n",
    "        \"passing_2pt_conversions\",\n",
    "        \"carries\", # Include rushing stats for QBs\n",
    "        \"rushing_yards\",\n",
    "        \"rushing_tds\",\n",
    "        \"rushing_fumbles\",\n",
    "        \"rushing_fumbles_lost\",\n",
    "        \"rushing_first_downs\",\n",
    "        \"rushing_epa\",\n",
    "        \"rushing_2pt_conversions\",\n",
    "    },\n",
    "    \"rushing_and_receiving\": {\n",
    "        \"carries\",\n",
    "        \"rushing_yards\",\n",
    "        \"rushing_tds\",\n",
    "        \"rushing_fumbles\",\n",
    "        \"rushing_fumbles_lost\",\n",
    "        \"rushing_first_downs\",\n",
    "        \"rushing_epa\",\n",
    "        \"rushing_2pt_conversions\",\n",
    "        \"receptions\",\n",
    "        \"targets\",\n",
    "        \"receiving_yards\",\n",
    "        \"receiving_tds\",\n",
    "        \"receiving_fumbles\",\n",
    "        \"receiving_fumbles_lost\",\n",
    "        \"receiving_air_yards\",\n",
    "        \"receiving_yards_after_catch\",\n",
    "        \"receiving_first_downs\",\n",
    "        \"rushing_epa\",\n",
    "        \"rushing_2pt_conversions\",\n",
    "        \"receptions\",\n",
    "        \"targets\",\n",
    "        \"receiving_yards\",\n",
    "        \"receiving_tds\",\n",
    "        \"receiving_fumbles\",\n",
    "        \"receiving_fumbles_lost\",\n",
    "        \"receiving_air_yards\",\n",
    "        \"receiving_yards_after_catch\",\n",
    "        \"receiving_first_downs\",\n",
    "        \"receiving_epa\",\n",
    "        \"receiving_2pt_conversions\",\n",
    "        \"racr\",\n",
    "        \"target_share\",\n",
    "        \"air_yards_share\",\n",
    "        \"wopr\",\n",
    "    },\n",
    "    \"defense\": {\n",
    "        \"special_teams_tds\",\n",
    "        \"def_tackles_solo\",\n",
    "        \"def_tackles_with_assist\",\n",
    "        \"def_tackle_assists\",\n",
    "        \"def_tackles_for_loss\",\n",
    "        \"def_tackles_for_loss_yards\",\n",
    "        \"def_fumbles_forced\",\n",
    "        \"def_sacks\",\n",
    "        \"def_sack_yards\",\n",
    "        \"def_qb_hits\",\n",
    "        \"def_interceptions\",\n",
    "        \"def_interception_yards\",\n",
    "        \"def_pass_defended\",\n",
    "        \"def_tds\",\n",
    "        \"def_fumbles\",\n",
    "        \"def_safeties\",\n",
    "        \"misc_yards\",\n",
    "        \"fumble_recovery_own\",\n",
    "        \"fumble_recovery_yards_own\",\n",
    "        \"fumble_recovery_opp\",\n",
    "        \"fumble_recovery_yards_opp\",\n",
    "        \"fumble_recovery_tds\",\n",
    "        \"penalties\",\n",
    "    },\n",
    "    \"kicking\": {\n",
    "        \"fg_made\",\n",
    "        \"fg_att\",\n",
    "        \"fg_missed\",\n",
    "        \"fg_blocked\",\n",
    "        \"fg_long\",\n",
    "        \"fg_pct\",\n",
    "        \"fg_made_0_19\",\n",
    "        \"fg_made_20_29\",\n",
    "        \"fg_made_30_39\",\n",
    "        \"fg_made_40_49\",\n",
    "        \"fg_made_50_59\",\n",
    "        \"fg_made_60_\",\n",
    "        \"fg_missed_0_19\",\n",
    "        \"fg_missed_20_29\",\n",
    "        \"fg_missed_30_39\",\n",
    "        \"fg_missed_40_49\",\n",
    "        \"fg_missed_50_59\",\n",
    "        \"fg_missed_60_\",\n",
    "        \"fg_made_list\",\n",
    "        \"fg_missed_list\",\n",
    "        \"fg_blocked_list\",\n",
    "        \"fg_made_distance\",\n",
    "        \"fg_missed_distance\",\n",
    "        \"fg_blocked_distance\",\n",
    "        \"pat_made\",\n",
    "        \"pat_att\",\n",
    "        \"pat_missed\",\n",
    "        \"pat_blocked\",\n",
    "        \"pat_pct\",\n",
    "        \"gwfg_made\",\n",
    "        \"gwfg_att\",\n",
    "        \"gwfg_missed\",\n",
    "        \"gwfg_blocked\",\n",
    "        \"gwfg_distance\",\n",
    "    },\n",
    "    \"special_teams\": {\n",
    "        \"punt_returns\",\n",
    "        \"punt_return_yards\",\n",
    "        \"kickoff_returns\",\n",
    "        \"kickoff_return_yards\",\n",
    "    },\n",
    "}\n",
    "\n",
    "categories_positions = {\n",
    "    \"passing\": [\"QB\"],\n",
    "    \"rushing_and_receiving\": [\"RB\", \"WR\"],\n",
    "    # Not available \"kicking\": [\"K\"] \n",
    "}\n"
   ]
  },
  {
   "cell_type": "code",
   "execution_count": 9,
   "id": "2f56736a",
   "metadata": {},
   "outputs": [],
   "source": [
    "# Establish dataframes for each positional group, filter by position value\n",
    "def filter_by_positional_group(df, category_key_a, category_key_b=\"standard\") -> pd.DataFrame:\n",
    "    new_df = df.loc[:, list(column_categories[category_key_a] | column_categories[category_key_b])]\n",
    "    new_df = new_df[new_df[\"position\"].isin(categories_positions[category_key_a])]\n",
    "    return new_df.reset_index(drop=True)\n",
    "\n",
    "# Data of interest\n",
    "passing_df = filter_by_positional_group(all_players_df, \"passing\")\n",
    "rushing_and_receiving_df = filter_by_positional_group(all_players_df, \"rushing_and_receiving\")\n",
    "\n",
    "# Save in case\n",
    "defense_df = all_players_df.loc[:, list(column_categories[\"standard\"] | column_categories[\"defense\"])]\n",
    "kicking_df = all_players_df.loc[:, list(column_categories[\"standard\"] | column_categories[\"kicking\"])]\n",
    "specials_teams_df = all_players_df.loc[:, list(column_categories[\"standard\"] | column_categories[\"special_teams\"])]\n",
    "\n",
    "# Give the dataframes each an alias\n",
    "passing_df.alias = \"passing_df\"\n",
    "rushing_and_receiving_df.alias = \"rushing_and_receiving_df\"\n",
    "defense_df.alias = \"defense_df\"\n",
    "kicking_df.alias = \"kicking_df\"\n",
    "specials_teams_df.alias = \"specials_teams_df\""
   ]
  },
  {
   "cell_type": "code",
   "execution_count": 10,
   "id": "af1c018f",
   "metadata": {},
   "outputs": [
    {
     "name": "stdout",
     "output_type": "stream",
     "text": [
      "Checking passing_df for null values\n",
      "passing_df contains 0 null values.\n",
      "Checking rushing_and_receiving_df for null values\n",
      "rushing_and_receiving_df contains 0 null values.\n",
      "Checking defense_df for null values\n",
      "defense_df contains 0 null values.\n",
      "Checking kicking_df for null values\n",
      "kicking_df contains 0 null values.\n",
      "Checking specials_teams_df for null values\n",
      "specials_teams_df contains 0 null values.\n"
     ]
    }
   ],
   "source": [
    "for df in [passing_df, rushing_and_receiving_df, defense_df, kicking_df, specials_teams_df]:\n",
    "    null_values = 0\n",
    "    print(f\"Checking {df.alias} for null values\")\n",
    "    null_counts = df.isna().sum()\n",
    "\n",
    "    for column, count in zip(null_counts.index, null_counts):\n",
    "        if count != 0:\n",
    "            null_values += 1\n",
    "            print(f\"Column: {column} contains {count} null values.\")\n",
    "    \n",
    "    print(f\"{df.alias} contains {null_values} null values.\")\n",
    "\n",
    "df = None"
   ]
  },
  {
   "cell_type": "markdown",
   "id": "c2840d92",
   "metadata": {},
   "source": [
    "### Implement and Apply Model\n",
    "\n",
    "Implement multiple linear regression models to predict multiple statistics for rushers and receivers. \n",
    "\n",
    "* Define the targets: rushing_yards, rushing_tds, receiving_yards, receiving_tds"
   ]
  },
  {
   "cell_type": "code",
   "execution_count": 6,
   "id": "8e81076e",
   "metadata": {},
   "outputs": [
    {
     "data": {
      "text/plain": [
       "Index(['season_type', 'receiving_yards', 'receiving_tds', 'week',\n",
       "       'receiving_epa', 'rushing_2pt_conversions', 'rushing_first_downs',\n",
       "       'player_name', 'receiving_fumbles_lost', 'season', 'target_share',\n",
       "       'air_yards_share', 'receiving_air_yards', 'rushing_epa',\n",
       "       'receiving_first_downs', 'racr', 'opponent_team', 'receptions',\n",
       "       'position_group', 'rushing_fumbles_lost', 'player_id',\n",
       "       'receiving_2pt_conversions', 'rushing_tds', 'carries', 'team',\n",
       "       'rushing_fumbles', 'pacr', 'targets', 'receiving_fumbles', 'wopr',\n",
       "       'rushing_yards', 'position', 'receiving_yards_after_catch'],\n",
       "      dtype='object')"
      ]
     },
     "execution_count": 6,
     "metadata": {},
     "output_type": "execute_result"
    }
   ],
   "source": [
    "rushing_and_receiving_df.columns"
   ]
  },
  {
   "cell_type": "code",
   "execution_count": 11,
   "id": "68947e58",
   "metadata": {},
   "outputs": [],
   "source": [
    "\"\"\"\n",
    "Collect xs, and ys.\n",
    "Normalize data using Z-score normalization\n",
    "(val - mean_val) / standard_deviation\n",
    "\n",
    "Create 4 buckets, one for each statistical category.\n",
    "\n",
    "Prefix   | Stat Category\n",
    "-------------------------\n",
    "rsh_yd_ -> rushing_yards\n",
    "rsh_td_ -> rushing_tds\n",
    "rc_yd_  -> receiving_yards\n",
    "rc_td_  -> receiving_tds\n",
    "\"\"\"\n",
    "\n",
    "inputs = {\n",
    "    \"rsh_yd\": [\"rushing_tds\", \"rushing_yards\", \"rushing_fumbles_lost\", \"racr\", \"rushing_epa\", \"rushing_fumbles\", \"carries\", \"pacr\", \"rushing_first_downs\", \"rushing_2pt_conversions\"],\n",
    "    \"rsh_td\": [\"rushing_tds\", \"rushing_yards\", \"rushing_fumbles_lost\", \"racr\", \"rushing_epa\", \"rushing_fumbles\", \"carries\", \"pacr\", \"rushing_first_downs\", \"rushing_2pt_conversions\"],\n",
    "    \"rc_yd\" : [\"receiving_epa\", \"receiving_2pt_conversions\", \"racr\", \"air_yards_share\", \"receiving_tds\", \"receiving_first_downs\", \"wopr\", \"receiving_yards_after_catch\", \"receiving_air_yards\", \"target_share\", \"pacr\", \"targets\", \"receiving_yards\", \"receiving_fumbles_lost\", \"receptions\"],\n",
    "    \"rc_td\" : [\"receiving_epa\", \"receiving_2pt_conversions\", \"racr\", \"air_yards_share\", \"receiving_tds\", \"receiving_first_downs\", \"wopr\", \"receiving_yards_after_catch\", \"receiving_air_yards\", \"target_share\", \"pacr\", \"targets\", \"receiving_yards\", \"receiving_fumbles_lost\", \"receptions\"],\n",
    "    \"rc\": [\"receiving_epa\", \"receiving_2pt_conversions\", \"racr\", \"air_yards_share\", \"receiving_tds\", \"receiving_first_downs\", \"wopr\", \"receiving_yards_after_catch\", \"receiving_air_yards\", \"target_share\", \"pacr\", \"targets\", \"receiving_yards\", \"receiving_fumbles_lost\", \"receptions\"],\n",
    "    \"p_yd\": [\"completions\", \"attempts\", \"passing_yards\", \"passing_tds\", \"passing_interceptions\", \"sacks_suffered\", \"sack_yards_lost\", \"sack_fumbles\", \"sack_fumbles_lost\", \"passing_air_yards\", \"passing_yards_after_catch\", \"passing_first_downs\", \"passing_epa\", \"passing_cpoe\", \"passing_2pt_conversions\", \"pacr\"],\n",
    "    \"p_td\": [\"completions\", \"attempts\", \"passing_yards\", \"passing_tds\", \"passing_interceptions\", \"sacks_suffered\", \"sack_yards_lost\", \"sack_fumbles\", \"sack_fumbles_lost\", \"passing_air_yards\", \"passing_yards_after_catch\", \"passing_first_downs\", \"passing_epa\", \"passing_cpoe\", \"passing_2pt_conversions\", \"pacr\"],\n",
    "    \"intcpt\": [\"completions\", \"attempts\", \"passing_yards\", \"passing_tds\", \"passing_interceptions\", \"sacks_suffered\", \"sack_yards_lost\", \"sack_fumbles\", \"sack_fumbles_lost\", \"passing_air_yards\", \"passing_yards_after_catch\", \"passing_first_downs\", \"passing_epa\", \"passing_cpoe\", \"passing_2pt_conversions\", \"pacr\"],\n",
    "    \"rsh_fmbls\": [\"rushing_tds\", \"rushing_yards\", \"rushing_fumbles_lost\", \"racr\", \"rushing_epa\", \"rushing_fumbles\", \"carries\", \"pacr\", \"rushing_first_downs\", \"rushing_2pt_conversions\"],\n",
    "    \"rc_fmbls\": [\"receiving_epa\", \"receiving_2pt_conversions\", \"racr\", \"air_yards_share\", \"receiving_tds\", \"receiving_first_downs\", \"wopr\", \"receiving_yards_after_catch\", \"receiving_air_yards\", \"target_share\", \"pacr\", \"targets\", \"receiving_yards\", \"receiving_fumbles_lost\", \"receptions\"],\n",
    "    \"def\": [\"def_tackles_solo\", \"def_tackles_with_assist\", \"def_tackle_assists\", \"def_tackles_for_loss\", \"def_tackles_for_loss_yards\", \"def_fumbles_forced\", \"def_sacks\", \"def_sack_yards\", \"def_qb_hits\", \"def_interceptions\", \"def_interception_yards\", \"def_pass_defended\", \"def_tds\", \"def_fumbles\", \"def_safeties\"]\n",
    "}\n",
    "\n",
    "# Stat 1 rushing_yards\n",
    "rsh_yd_X = rushing_and_receiving_df[inputs[\"rsh_yd\"] + [\"season\", \"week\", \"player_id\", \"player_name\", \"opponent_team\", \"depth_team\"] + list(encoded_feature_names)]\n",
    "# Stat 2 rushing_tds\n",
    "rsh_td_X = rushing_and_receiving_df[inputs[\"rsh_td\"] + [\"season\", \"week\", \"player_id\", \"player_name\", \"opponent_team\", \"depth_team\"] + list(encoded_feature_names)]\n",
    "# Stat 3 receiving_yards\n",
    "rc_yd_X = rushing_and_receiving_df[inputs[\"rc_yd\"] + [\"season\", \"week\", \"player_id\", \"player_name\", \"opponent_team\", \"depth_team\"] + list(encoded_feature_names)]\n",
    "# Stat 4 receiving_tds\n",
    "rc_td_X = rushing_and_receiving_df[inputs[\"rc_td\"] + [\"season\", \"week\", \"player_id\", \"player_name\", \"opponent_team\", \"depth_team\"] + list(encoded_feature_names)]\n",
    "# Stat 5 receptions\n",
    "rc_X = rushing_and_receiving_df[inputs[\"rc\"] + [\"season\", \"week\", \"player_id\", \"player_name\", \"opponent_team\", \"depth_team\"] + list(encoded_feature_names)]\n",
    "# Stat 6 passing_yards\n",
    "p_yd_X = passing_df[inputs[\"p_yd\"] + [\"season\", \"week\", \"player_id\", \"player_name\", \"opponent_team\", \"depth_team\"] + list(encoded_feature_names)]\n",
    "# Stat 7 passing_tds\n",
    "p_td_X = passing_df[inputs[\"p_td\"] + [\"season\", \"week\", \"player_id\", \"player_name\", \"opponent_team\", \"depth_team\"] + list(encoded_feature_names)]\n",
    "# Stat 8 interceptions\n",
    "intcpt_X = passing_df[inputs[\"intcpt\"] + [\"season\", \"week\", \"player_id\", \"player_name\", \"opponent_team\", \"depth_team\"] + list(encoded_feature_names)]\n",
    "# Stat 9-10 fmbls\n",
    "rsh_fmbls_X = pd.concat([rushing_and_receiving_df, passing_df]).reset_index(drop=True)[inputs[\"rsh_fmbls\"] + [\"season\", \"week\", \"player_id\", \"player_name\", \"opponent_team\", \"depth_team\"] + list(encoded_feature_names)]\n",
    "rc_fmbls_X = pd.concat([rushing_and_receiving_df, passing_df]).reset_index(drop=True)[inputs[\"rc_fmbls\"] + [\"season\", \"week\", \"player_id\", \"player_name\", \"opponent_team\", \"depth_team\"] + list(encoded_feature_names)]\n",
    "\n",
    "# Defensive stats for opponent\n",
    "defense_stats_df = all_teams_df[inputs[\"def\"] + [\"season\", \"week\", \"team\"]]"
   ]
  },
  {
   "cell_type": "code",
   "execution_count": 12,
   "id": "45e3ae5e",
   "metadata": {},
   "outputs": [],
   "source": [
    "def calculate_rolling_data(df: pd.DataFrame, sort_values: list, input_ref: str, groupby: list, rolling_period: int=3, min_periods: int=1, shift: int=1):\n",
    "    df = df.sort_values(sort_values)\n",
    "\n",
    "    df[[f\"{c}_roll{rolling_period}_shift\" for c in inputs[input_ref]]] = (\n",
    "        df.groupby(groupby)[inputs[input_ref]]\n",
    "         .transform(lambda x: x.rolling(rolling_period, min_periods=min_periods).mean().shift(shift))\n",
    "    )\n",
    "\n",
    "    return df\n",
    "\n",
    "rolling_period = 4\n",
    "\n",
    "rsh_yd_X = calculate_rolling_data(rsh_yd_X, [\"season\", \"week\", \"player_id\"], \"rsh_yd\", [\"season\", \"player_id\"], rolling_period=rolling_period)\n",
    "rsh_td_X = calculate_rolling_data(rsh_td_X, [\"season\", \"week\", \"player_id\"], \"rsh_td\", [\"season\", \"player_id\"], rolling_period=rolling_period)\n",
    "rc_yd_X = calculate_rolling_data(rc_yd_X, [\"season\", \"week\", \"player_id\"], \"rc_yd\", [\"season\", \"player_id\"], rolling_period=rolling_period)\n",
    "rc_td_X = calculate_rolling_data(rc_td_X, [\"season\", \"week\", \"player_id\"], \"rc_td\", [\"season\", \"player_id\"], rolling_period=rolling_period)\n",
    "rc_X = calculate_rolling_data(rc_X, [\"season\", \"week\", \"player_id\"], \"rc\", [\"season\", \"player_id\"], rolling_period=rolling_period)\n",
    "p_yd_X = calculate_rolling_data(p_yd_X, [\"season\", \"week\", \"player_id\"], \"p_yd\", [\"season\", \"player_id\"], rolling_period=rolling_period)\n",
    "p_td_X = calculate_rolling_data(p_td_X, [\"season\", \"week\", \"player_id\"], \"p_td\", [\"season\", \"player_id\"], rolling_period=rolling_period)\n",
    "intcpt_X = calculate_rolling_data(intcpt_X, [\"season\", \"week\", \"player_id\"], \"intcpt\", [\"season\", \"player_id\"], rolling_period=rolling_period)\n",
    "rsh_fmbls_X = calculate_rolling_data(rsh_fmbls_X, [\"season\", \"week\", \"player_id\"], \"rsh_fmbls\", [\"season\", \"player_id\"], rolling_period=rolling_period)\n",
    "rc_fmbls_X = calculate_rolling_data(rc_fmbls_X, [\"season\", \"week\", \"player_id\"], \"rc_fmbls\", [\"season\", \"player_id\"], rolling_period=rolling_period)\n",
    "defense_stats_df = calculate_rolling_data(defense_stats_df, [\"season\", \"week\", \"team\"], \"def\", [\"season\", \"team\"], rolling_period=rolling_period)"
   ]
  },
  {
   "cell_type": "code",
   "execution_count": 13,
   "id": "55348b70",
   "metadata": {},
   "outputs": [],
   "source": [
    "# Normalize the data using Z-Score Standardization (sklearn StandardScaler)\n",
    "from sklearn.preprocessing import StandardScaler\n",
    "\n",
    "rsh_yd_input_cols = [col + f\"_roll{rolling_period}_shift\" for col in inputs[\"rsh_yd\"]] + [\"depth_team\"] + list(encoded_feature_names) \n",
    "rsh_td_input_cols = [col + f\"_roll{rolling_period}_shift\" for col in inputs[\"rsh_td\"]] + [\"depth_team\"] + list(encoded_feature_names)\n",
    "rc_yd_input_cols = [col + f\"_roll{rolling_period}_shift\" for col in inputs[\"rc_yd\"]] + [\"depth_team\"] + list(encoded_feature_names)\n",
    "rc_td_input_cols = [col + f\"_roll{rolling_period}_shift\" for col in inputs[\"rc_td\"]] + [\"depth_team\"] + list(encoded_feature_names)\n",
    "rc_input_cols = [col + f\"_roll{rolling_period}_shift\" for col in inputs[\"rc\"]] + [\"depth_team\"] + list(encoded_feature_names)\n",
    "p_yd_input_cols = [col + f\"_roll{rolling_period}_shift\" for col in inputs[\"p_yd\"]] + [\"depth_team\"] + list(encoded_feature_names)\n",
    "p_td_input_cols = [col + f\"_roll{rolling_period}_shift\" for col in inputs[\"p_td\"]] + [\"depth_team\"] + list(encoded_feature_names)\n",
    "intcpt_input_cols = [col + f\"_roll{rolling_period}_shift\" for col in inputs[\"intcpt\"]] + [\"depth_team\"] + list(encoded_feature_names)\n",
    "rsh_fmbls_input_cols = [col + f\"_roll{rolling_period}_shift\" for col in inputs[\"rsh_fmbls\"]] + [\"depth_team\"] + list(encoded_feature_names)\n",
    "rc_fmbls_input_cols = [col + f\"_roll{rolling_period}_shift\" for col in inputs[\"rc_fmbls\"]] + [\"depth_team\"] + list(encoded_feature_names)\n",
    "def_input_cols = [col + f\"_roll{rolling_period}_shift\" for col in inputs[\"def\"]]\n",
    "\n",
    "scalers = {}\n",
    "\n",
    "def scale_inplace(df, cols, name):\n",
    "    # optionally: df = df.copy()  # if you want to avoid mutating the original\n",
    "    scaler = StandardScaler()\n",
    "    df.loc[:, cols] = scaler.fit_transform(df[cols])\n",
    "    scalers[name] = scaler\n",
    "    return df\n",
    "\n",
    "rsh_yd_X = scale_inplace(rsh_yd_X, rsh_yd_input_cols, \"rsh_yd\")\n",
    "rsh_td_X = scale_inplace(rsh_td_X, rsh_td_input_cols, \"rsh_td\")\n",
    "rc_yd_X = scale_inplace(rc_yd_X,  rc_yd_input_cols,  \"rc_yd\")\n",
    "rc_td_X = scale_inplace(rc_td_X,  rc_td_input_cols,  \"rc_td\")\n",
    "p_yd_X = scale_inplace(p_yd_X,  p_yd_input_cols,  \"p_yd\")\n",
    "p_td_X = scale_inplace(p_td_X,  p_td_input_cols,  \"p_td\")\n",
    "intcpt_X = scale_inplace(intcpt_X,  intcpt_input_cols,  \"intcpt\")\n",
    "rsh_fmbls_X = scale_inplace(rsh_fmbls_X, rsh_fmbls_input_cols, \"rsh_fmbls\")\n",
    "rc_fmbls_X = scale_inplace(rc_fmbls_X, rc_fmbls_input_cols, \"rc_fmbls\")\n",
    "defense_stats_df = scale_inplace(defense_stats_df, def_input_cols, \"def\")"
   ]
  },
  {
   "cell_type": "code",
   "execution_count": 14,
   "id": "fff7568b",
   "metadata": {},
   "outputs": [],
   "source": [
    "# Merge the defensive dataframe to the offensive one.\n",
    "rsh_yd_X = rsh_yd_X.merge(defense_stats_df, how=\"left\", left_on=[\"opponent_team\", \"season\", \"week\"], right_on=[\"team\", \"season\", \"week\"])\n",
    "rsh_td_X = rsh_td_X.merge(defense_stats_df, how=\"left\", left_on=[\"opponent_team\", \"season\", \"week\"], right_on=[\"team\", \"season\", \"week\"])\n",
    "rc_yd_X = rc_yd_X.merge(defense_stats_df, how=\"left\", left_on=[\"opponent_team\", \"season\", \"week\"], right_on=[\"team\", \"season\", \"week\"])\n",
    "rc_td_X = rc_td_X.merge(defense_stats_df, how=\"left\", left_on=[\"opponent_team\", \"season\", \"week\"], right_on=[\"team\", \"season\", \"week\"])\n",
    "rc_X = rc_X.merge(defense_stats_df, how=\"left\", left_on=[\"opponent_team\", \"season\", \"week\"], right_on=[\"team\", \"season\", \"week\"])\n",
    "p_yd_X = p_yd_X.merge(defense_stats_df, how=\"left\", left_on=[\"opponent_team\", \"season\", \"week\"], right_on=[\"team\", \"season\", \"week\"])\n",
    "p_td_X = p_td_X.merge(defense_stats_df, how=\"left\", left_on=[\"opponent_team\", \"season\", \"week\"], right_on=[\"team\", \"season\", \"week\"])\n",
    "intcpt_X = intcpt_X.merge(defense_stats_df, how=\"left\", left_on=[\"opponent_team\", \"season\", \"week\"], right_on=[\"team\", \"season\", \"week\"])\n",
    "rsh_fmbls_X = rsh_fmbls_X.merge(defense_stats_df, how=\"left\", left_on=[\"opponent_team\", \"season\", \"week\"], right_on=[\"team\", \"season\", \"week\"])\n",
    "rc_fmbls_X = rc_fmbls_X.merge(defense_stats_df, how=\"left\", left_on=[\"opponent_team\", \"season\", \"week\"], right_on=[\"team\", \"season\", \"week\"])"
   ]
  },
  {
   "cell_type": "markdown",
   "id": "3c88debd",
   "metadata": {},
   "source": [
    "### Apply the RNN Model"
   ]
  },
  {
   "cell_type": "code",
   "execution_count": 28,
   "id": "ac77e7bd",
   "metadata": {},
   "outputs": [
    {
     "data": {
      "text/html": [
       "<pre style=\"white-space:pre;overflow-x:auto;line-height:normal;font-family:Menlo,'DejaVu Sans Mono',consolas,'Courier New',monospace\"><span style=\"font-weight: bold\">Model: \"sequential_16\"</span>\n",
       "</pre>\n"
      ],
      "text/plain": [
       "\u001b[1mModel: \"sequential_16\"\u001b[0m\n"
      ]
     },
     "metadata": {},
     "output_type": "display_data"
    },
    {
     "data": {
      "text/html": [
       "<pre style=\"white-space:pre;overflow-x:auto;line-height:normal;font-family:Menlo,'DejaVu Sans Mono',consolas,'Courier New',monospace\">┏━━━━━━━━━━━━━━━━━━━━━━━━━━━━━━━━━┳━━━━━━━━━━━━━━━━━━━━━━━━┳━━━━━━━━━━━━━━━┓\n",
       "┃<span style=\"font-weight: bold\"> Layer (type)                    </span>┃<span style=\"font-weight: bold\"> Output Shape           </span>┃<span style=\"font-weight: bold\">       Param # </span>┃\n",
       "┡━━━━━━━━━━━━━━━━━━━━━━━━━━━━━━━━━╇━━━━━━━━━━━━━━━━━━━━━━━━╇━━━━━━━━━━━━━━━┩\n",
       "│ lstm_32 (<span style=\"color: #0087ff; text-decoration-color: #0087ff\">LSTM</span>)                  │ (<span style=\"color: #00d7ff; text-decoration-color: #00d7ff\">None</span>, <span style=\"color: #00af00; text-decoration-color: #00af00\">64</span>, <span style=\"color: #00af00; text-decoration-color: #00af00\">64</span>)         │        <span style=\"color: #00af00; text-decoration-color: #00af00\">16,896</span> │\n",
       "├─────────────────────────────────┼────────────────────────┼───────────────┤\n",
       "│ lstm_33 (<span style=\"color: #0087ff; text-decoration-color: #0087ff\">LSTM</span>)                  │ (<span style=\"color: #00d7ff; text-decoration-color: #00d7ff\">None</span>, <span style=\"color: #00af00; text-decoration-color: #00af00\">32</span>)             │        <span style=\"color: #00af00; text-decoration-color: #00af00\">12,416</span> │\n",
       "├─────────────────────────────────┼────────────────────────┼───────────────┤\n",
       "│ dense_16 (<span style=\"color: #0087ff; text-decoration-color: #0087ff\">Dense</span>)                │ (<span style=\"color: #00d7ff; text-decoration-color: #00d7ff\">None</span>, <span style=\"color: #00af00; text-decoration-color: #00af00\">1</span>)              │            <span style=\"color: #00af00; text-decoration-color: #00af00\">33</span> │\n",
       "└─────────────────────────────────┴────────────────────────┴───────────────┘\n",
       "</pre>\n"
      ],
      "text/plain": [
       "┏━━━━━━━━━━━━━━━━━━━━━━━━━━━━━━━━━┳━━━━━━━━━━━━━━━━━━━━━━━━┳━━━━━━━━━━━━━━━┓\n",
       "┃\u001b[1m \u001b[0m\u001b[1mLayer (type)                   \u001b[0m\u001b[1m \u001b[0m┃\u001b[1m \u001b[0m\u001b[1mOutput Shape          \u001b[0m\u001b[1m \u001b[0m┃\u001b[1m \u001b[0m\u001b[1m      Param #\u001b[0m\u001b[1m \u001b[0m┃\n",
       "┡━━━━━━━━━━━━━━━━━━━━━━━━━━━━━━━━━╇━━━━━━━━━━━━━━━━━━━━━━━━╇━━━━━━━━━━━━━━━┩\n",
       "│ lstm_32 (\u001b[38;5;33mLSTM\u001b[0m)                  │ (\u001b[38;5;45mNone\u001b[0m, \u001b[38;5;34m64\u001b[0m, \u001b[38;5;34m64\u001b[0m)         │        \u001b[38;5;34m16,896\u001b[0m │\n",
       "├─────────────────────────────────┼────────────────────────┼───────────────┤\n",
       "│ lstm_33 (\u001b[38;5;33mLSTM\u001b[0m)                  │ (\u001b[38;5;45mNone\u001b[0m, \u001b[38;5;34m32\u001b[0m)             │        \u001b[38;5;34m12,416\u001b[0m │\n",
       "├─────────────────────────────────┼────────────────────────┼───────────────┤\n",
       "│ dense_16 (\u001b[38;5;33mDense\u001b[0m)                │ (\u001b[38;5;45mNone\u001b[0m, \u001b[38;5;34m1\u001b[0m)              │            \u001b[38;5;34m33\u001b[0m │\n",
       "└─────────────────────────────────┴────────────────────────┴───────────────┘\n"
      ]
     },
     "metadata": {},
     "output_type": "display_data"
    },
    {
     "data": {
      "text/html": [
       "<pre style=\"white-space:pre;overflow-x:auto;line-height:normal;font-family:Menlo,'DejaVu Sans Mono',consolas,'Courier New',monospace\"><span style=\"font-weight: bold\"> Total params: </span><span style=\"color: #00af00; text-decoration-color: #00af00\">29,345</span> (114.63 KB)\n",
       "</pre>\n"
      ],
      "text/plain": [
       "\u001b[1m Total params: \u001b[0m\u001b[38;5;34m29,345\u001b[0m (114.63 KB)\n"
      ]
     },
     "metadata": {},
     "output_type": "display_data"
    },
    {
     "data": {
      "text/html": [
       "<pre style=\"white-space:pre;overflow-x:auto;line-height:normal;font-family:Menlo,'DejaVu Sans Mono',consolas,'Courier New',monospace\"><span style=\"font-weight: bold\"> Trainable params: </span><span style=\"color: #00af00; text-decoration-color: #00af00\">29,345</span> (114.63 KB)\n",
       "</pre>\n"
      ],
      "text/plain": [
       "\u001b[1m Trainable params: \u001b[0m\u001b[38;5;34m29,345\u001b[0m (114.63 KB)\n"
      ]
     },
     "metadata": {},
     "output_type": "display_data"
    },
    {
     "data": {
      "text/html": [
       "<pre style=\"white-space:pre;overflow-x:auto;line-height:normal;font-family:Menlo,'DejaVu Sans Mono',consolas,'Courier New',monospace\"><span style=\"font-weight: bold\"> Non-trainable params: </span><span style=\"color: #00af00; text-decoration-color: #00af00\">0</span> (0.00 B)\n",
       "</pre>\n"
      ],
      "text/plain": [
       "\u001b[1m Non-trainable params: \u001b[0m\u001b[38;5;34m0\u001b[0m (0.00 B)\n"
      ]
     },
     "metadata": {},
     "output_type": "display_data"
    },
    {
     "name": "stdout",
     "output_type": "stream",
     "text": [
      "Epoch 1/20\n",
      "\u001b[1m389/389\u001b[0m \u001b[32m━━━━━━━━━━━━━━━━━━━━\u001b[0m\u001b[37m\u001b[0m \u001b[1m32s\u001b[0m 74ms/step - loss: 801.8892 - mae: 16.7490 - rmse: 28.1268 - val_loss: 662.9083 - val_mae: 17.0031 - val_rmse: 25.6561 - learning_rate: 0.0010\n",
      "Epoch 2/20\n",
      "\u001b[1m389/389\u001b[0m \u001b[32m━━━━━━━━━━━━━━━━━━━━\u001b[0m\u001b[37m\u001b[0m \u001b[1m29s\u001b[0m 76ms/step - loss: 787.0677 - mae: 18.0396 - rmse: 27.9106 - val_loss: 663.1049 - val_mae: 17.1273 - val_rmse: 25.6608 - learning_rate: 0.0010\n",
      "Epoch 3/20\n",
      "\u001b[1m389/389\u001b[0m \u001b[32m━━━━━━━━━━━━━━━━━━━━\u001b[0m\u001b[37m\u001b[0m \u001b[1m29s\u001b[0m 75ms/step - loss: 787.0494 - mae: 18.0325 - rmse: 27.9030 - val_loss: 663.0603 - val_mae: 17.1159 - val_rmse: 25.6599 - learning_rate: 0.0010\n",
      "Epoch 4/20\n",
      "\u001b[1m389/389\u001b[0m \u001b[32m━━━━━━━━━━━━━━━━━━━━\u001b[0m\u001b[37m\u001b[0m \u001b[1m29s\u001b[0m 75ms/step - loss: 787.0637 - mae: 18.0658 - rmse: 27.8690 - val_loss: 663.3377 - val_mae: 17.2268 - val_rmse: 25.6662 - learning_rate: 0.0010\n",
      "Epoch 5/20\n",
      "\u001b[1m389/389\u001b[0m \u001b[32m━━━━━━━━━━━━━━━━━━━━\u001b[0m\u001b[37m\u001b[0m \u001b[1m30s\u001b[0m 76ms/step - loss: 787.0538 - mae: 18.1019 - rmse: 27.8814 - val_loss: 663.0338 - val_mae: 17.0893 - val_rmse: 25.6592 - learning_rate: 5.0000e-04\n",
      "Epoch 6/20\n",
      "\u001b[1m389/389\u001b[0m \u001b[32m━━━━━━━━━━━━━━━━━━━━\u001b[0m\u001b[37m\u001b[0m \u001b[1m30s\u001b[0m 76ms/step - loss: 787.0427 - mae: 18.0793 - rmse: 27.8804 - val_loss: 663.0187 - val_mae: 17.0806 - val_rmse: 25.6588 - learning_rate: 5.0000e-04\n",
      "Epoch 7/20\n",
      "\u001b[1m389/389\u001b[0m \u001b[32m━━━━━━━━━━━━━━━━━━━━\u001b[0m\u001b[37m\u001b[0m \u001b[1m29s\u001b[0m 75ms/step - loss: 787.0566 - mae: 18.0343 - rmse: 27.8951 - val_loss: 663.1893 - val_mae: 17.1668 - val_rmse: 25.6628 - learning_rate: 5.0000e-04\n",
      "Epoch 8/20\n",
      "\u001b[1m389/389\u001b[0m \u001b[32m━━━━━━━━━━━━━━━━━━━━\u001b[0m\u001b[37m\u001b[0m \u001b[1m29s\u001b[0m 75ms/step - loss: 787.0411 - mae: 18.0845 - rmse: 27.8918 - val_loss: 663.1312 - val_mae: 17.1401 - val_rmse: 25.6615 - learning_rate: 2.5000e-04\n",
      "Epoch 9/20\n",
      "\u001b[1m389/389\u001b[0m \u001b[32m━━━━━━━━━━━━━━━━━━━━\u001b[0m\u001b[37m\u001b[0m \u001b[1m27s\u001b[0m 70ms/step - loss: 787.0424 - mae: 18.0576 - rmse: 27.8886 - val_loss: 663.1837 - val_mae: 17.1643 - val_rmse: 25.6627 - learning_rate: 2.5000e-04\n",
      "\u001b[1m98/98\u001b[0m \u001b[32m━━━━━━━━━━━━━━━━━━━━\u001b[0m\u001b[37m\u001b[0m \u001b[1m4s\u001b[0m 37ms/step\n"
     ]
    },
    {
     "data": {
      "text/html": [
       "<pre style=\"white-space:pre;overflow-x:auto;line-height:normal;font-family:Menlo,'DejaVu Sans Mono',consolas,'Courier New',monospace\"><span style=\"font-weight: bold\">Model: \"sequential_17\"</span>\n",
       "</pre>\n"
      ],
      "text/plain": [
       "\u001b[1mModel: \"sequential_17\"\u001b[0m\n"
      ]
     },
     "metadata": {},
     "output_type": "display_data"
    },
    {
     "data": {
      "text/html": [
       "<pre style=\"white-space:pre;overflow-x:auto;line-height:normal;font-family:Menlo,'DejaVu Sans Mono',consolas,'Courier New',monospace\">┏━━━━━━━━━━━━━━━━━━━━━━━━━━━━━━━━━┳━━━━━━━━━━━━━━━━━━━━━━━━┳━━━━━━━━━━━━━━━┓\n",
       "┃<span style=\"font-weight: bold\"> Layer (type)                    </span>┃<span style=\"font-weight: bold\"> Output Shape           </span>┃<span style=\"font-weight: bold\">       Param # </span>┃\n",
       "┡━━━━━━━━━━━━━━━━━━━━━━━━━━━━━━━━━╇━━━━━━━━━━━━━━━━━━━━━━━━╇━━━━━━━━━━━━━━━┩\n",
       "│ lstm_34 (<span style=\"color: #0087ff; text-decoration-color: #0087ff\">LSTM</span>)                  │ (<span style=\"color: #00d7ff; text-decoration-color: #00d7ff\">None</span>, <span style=\"color: #00af00; text-decoration-color: #00af00\">64</span>, <span style=\"color: #00af00; text-decoration-color: #00af00\">64</span>)         │        <span style=\"color: #00af00; text-decoration-color: #00af00\">16,896</span> │\n",
       "├─────────────────────────────────┼────────────────────────┼───────────────┤\n",
       "│ lstm_35 (<span style=\"color: #0087ff; text-decoration-color: #0087ff\">LSTM</span>)                  │ (<span style=\"color: #00d7ff; text-decoration-color: #00d7ff\">None</span>, <span style=\"color: #00af00; text-decoration-color: #00af00\">32</span>)             │        <span style=\"color: #00af00; text-decoration-color: #00af00\">12,416</span> │\n",
       "├─────────────────────────────────┼────────────────────────┼───────────────┤\n",
       "│ dense_17 (<span style=\"color: #0087ff; text-decoration-color: #0087ff\">Dense</span>)                │ (<span style=\"color: #00d7ff; text-decoration-color: #00d7ff\">None</span>, <span style=\"color: #00af00; text-decoration-color: #00af00\">1</span>)              │            <span style=\"color: #00af00; text-decoration-color: #00af00\">33</span> │\n",
       "└─────────────────────────────────┴────────────────────────┴───────────────┘\n",
       "</pre>\n"
      ],
      "text/plain": [
       "┏━━━━━━━━━━━━━━━━━━━━━━━━━━━━━━━━━┳━━━━━━━━━━━━━━━━━━━━━━━━┳━━━━━━━━━━━━━━━┓\n",
       "┃\u001b[1m \u001b[0m\u001b[1mLayer (type)                   \u001b[0m\u001b[1m \u001b[0m┃\u001b[1m \u001b[0m\u001b[1mOutput Shape          \u001b[0m\u001b[1m \u001b[0m┃\u001b[1m \u001b[0m\u001b[1m      Param #\u001b[0m\u001b[1m \u001b[0m┃\n",
       "┡━━━━━━━━━━━━━━━━━━━━━━━━━━━━━━━━━╇━━━━━━━━━━━━━━━━━━━━━━━━╇━━━━━━━━━━━━━━━┩\n",
       "│ lstm_34 (\u001b[38;5;33mLSTM\u001b[0m)                  │ (\u001b[38;5;45mNone\u001b[0m, \u001b[38;5;34m64\u001b[0m, \u001b[38;5;34m64\u001b[0m)         │        \u001b[38;5;34m16,896\u001b[0m │\n",
       "├─────────────────────────────────┼────────────────────────┼───────────────┤\n",
       "│ lstm_35 (\u001b[38;5;33mLSTM\u001b[0m)                  │ (\u001b[38;5;45mNone\u001b[0m, \u001b[38;5;34m32\u001b[0m)             │        \u001b[38;5;34m12,416\u001b[0m │\n",
       "├─────────────────────────────────┼────────────────────────┼───────────────┤\n",
       "│ dense_17 (\u001b[38;5;33mDense\u001b[0m)                │ (\u001b[38;5;45mNone\u001b[0m, \u001b[38;5;34m1\u001b[0m)              │            \u001b[38;5;34m33\u001b[0m │\n",
       "└─────────────────────────────────┴────────────────────────┴───────────────┘\n"
      ]
     },
     "metadata": {},
     "output_type": "display_data"
    },
    {
     "data": {
      "text/html": [
       "<pre style=\"white-space:pre;overflow-x:auto;line-height:normal;font-family:Menlo,'DejaVu Sans Mono',consolas,'Courier New',monospace\"><span style=\"font-weight: bold\"> Total params: </span><span style=\"color: #00af00; text-decoration-color: #00af00\">29,345</span> (114.63 KB)\n",
       "</pre>\n"
      ],
      "text/plain": [
       "\u001b[1m Total params: \u001b[0m\u001b[38;5;34m29,345\u001b[0m (114.63 KB)\n"
      ]
     },
     "metadata": {},
     "output_type": "display_data"
    },
    {
     "data": {
      "text/html": [
       "<pre style=\"white-space:pre;overflow-x:auto;line-height:normal;font-family:Menlo,'DejaVu Sans Mono',consolas,'Courier New',monospace\"><span style=\"font-weight: bold\"> Trainable params: </span><span style=\"color: #00af00; text-decoration-color: #00af00\">29,345</span> (114.63 KB)\n",
       "</pre>\n"
      ],
      "text/plain": [
       "\u001b[1m Trainable params: \u001b[0m\u001b[38;5;34m29,345\u001b[0m (114.63 KB)\n"
      ]
     },
     "metadata": {},
     "output_type": "display_data"
    },
    {
     "data": {
      "text/html": [
       "<pre style=\"white-space:pre;overflow-x:auto;line-height:normal;font-family:Menlo,'DejaVu Sans Mono',consolas,'Courier New',monospace\"><span style=\"font-weight: bold\"> Non-trainable params: </span><span style=\"color: #00af00; text-decoration-color: #00af00\">0</span> (0.00 B)\n",
       "</pre>\n"
      ],
      "text/plain": [
       "\u001b[1m Non-trainable params: \u001b[0m\u001b[38;5;34m0\u001b[0m (0.00 B)\n"
      ]
     },
     "metadata": {},
     "output_type": "display_data"
    },
    {
     "name": "stdout",
     "output_type": "stream",
     "text": [
      "Epoch 1/20\n"
     ]
    },
    {
     "ename": "ValueError",
     "evalue": "Expected all entries in the `metrics` list to be metric objects. Received instead:\nmetrics=['mae', 25.74700927734375]",
     "output_type": "error",
     "traceback": [
      "\u001b[1;31m---------------------------------------------------------------------------\u001b[0m",
      "\u001b[1;31mValueError\u001b[0m                                Traceback (most recent call last)",
      "Cell \u001b[1;32mIn[28], line 48\u001b[0m\n\u001b[0;32m     41\u001b[0m rnn\u001b[38;5;241m.\u001b[39msummary()\n\u001b[0;32m     43\u001b[0m callbacks \u001b[38;5;241m=\u001b[39m [\n\u001b[0;32m     44\u001b[0m     keras\u001b[38;5;241m.\u001b[39mcallbacks\u001b[38;5;241m.\u001b[39mReduceLROnPlateau(factor\u001b[38;5;241m=\u001b[39m\u001b[38;5;241m0.5\u001b[39m, patience\u001b[38;5;241m=\u001b[39m\u001b[38;5;241m3\u001b[39m),\n\u001b[0;32m     45\u001b[0m     keras\u001b[38;5;241m.\u001b[39mcallbacks\u001b[38;5;241m.\u001b[39mEarlyStopping(patience\u001b[38;5;241m=\u001b[39m\u001b[38;5;241m8\u001b[39m, restore_best_weights\u001b[38;5;241m=\u001b[39m\u001b[38;5;28;01mTrue\u001b[39;00m)\n\u001b[0;32m     46\u001b[0m ]\n\u001b[1;32m---> 48\u001b[0m history \u001b[38;5;241m=\u001b[39m \u001b[43mrnn\u001b[49m\u001b[38;5;241;43m.\u001b[39;49m\u001b[43mfit\u001b[49m\u001b[43m(\u001b[49m\n\u001b[0;32m     49\u001b[0m \u001b[43m    \u001b[49m\u001b[43mX_train\u001b[49m\u001b[43m,\u001b[49m\u001b[43m \u001b[49m\u001b[43my_train\u001b[49m\u001b[43m,\u001b[49m\n\u001b[0;32m     50\u001b[0m \u001b[43m    \u001b[49m\u001b[43mvalidation_data\u001b[49m\u001b[38;5;241;43m=\u001b[39;49m\u001b[43m(\u001b[49m\u001b[43mX_valid\u001b[49m\u001b[43m,\u001b[49m\u001b[43m \u001b[49m\u001b[43my_valid\u001b[49m\u001b[43m)\u001b[49m\u001b[43m,\u001b[49m\n\u001b[0;32m     51\u001b[0m \u001b[43m    \u001b[49m\u001b[43mepochs\u001b[49m\u001b[38;5;241;43m=\u001b[39;49m\u001b[38;5;241;43m20\u001b[39;49m\u001b[43m,\u001b[49m\n\u001b[0;32m     52\u001b[0m \u001b[43m    \u001b[49m\u001b[43mbatch_size\u001b[49m\u001b[38;5;241;43m=\u001b[39;49m\u001b[38;5;241;43m256\u001b[39;49m\u001b[43m,\u001b[49m\n\u001b[0;32m     53\u001b[0m \u001b[43m    \u001b[49m\u001b[43mcallbacks\u001b[49m\u001b[38;5;241;43m=\u001b[39;49m\u001b[43mcallbacks\u001b[49m\u001b[43m,\u001b[49m\n\u001b[0;32m     54\u001b[0m \u001b[43m    \u001b[49m\u001b[43mverbose\u001b[49m\u001b[38;5;241;43m=\u001b[39;49m\u001b[38;5;241;43m1\u001b[39;49m\n\u001b[0;32m     55\u001b[0m \u001b[43m\u001b[49m\u001b[43m)\u001b[49m\n\u001b[0;32m     57\u001b[0m \u001b[38;5;66;03m# Evaluate\u001b[39;00m\n\u001b[0;32m     58\u001b[0m preds \u001b[38;5;241m=\u001b[39m rnn\u001b[38;5;241m.\u001b[39mpredict(X_valid, batch_size\u001b[38;5;241m=\u001b[39m\u001b[38;5;241m256\u001b[39m)\n",
      "File \u001b[1;32mc:\\Users\\bengu\\.virtualenvs\\cfeproj-oIABPDjj\\lib\\site-packages\\keras\\src\\utils\\traceback_utils.py:122\u001b[0m, in \u001b[0;36mfilter_traceback.<locals>.error_handler\u001b[1;34m(*args, **kwargs)\u001b[0m\n\u001b[0;32m    119\u001b[0m     filtered_tb \u001b[38;5;241m=\u001b[39m _process_traceback_frames(e\u001b[38;5;241m.\u001b[39m__traceback__)\n\u001b[0;32m    120\u001b[0m     \u001b[38;5;66;03m# To get the full stack trace, call:\u001b[39;00m\n\u001b[0;32m    121\u001b[0m     \u001b[38;5;66;03m# `keras.config.disable_traceback_filtering()`\u001b[39;00m\n\u001b[1;32m--> 122\u001b[0m     \u001b[38;5;28;01mraise\u001b[39;00m e\u001b[38;5;241m.\u001b[39mwith_traceback(filtered_tb) \u001b[38;5;28;01mfrom\u001b[39;00m\u001b[38;5;250m \u001b[39m\u001b[38;5;28;01mNone\u001b[39;00m\n\u001b[0;32m    123\u001b[0m \u001b[38;5;28;01mfinally\u001b[39;00m:\n\u001b[0;32m    124\u001b[0m     \u001b[38;5;28;01mdel\u001b[39;00m filtered_tb\n",
      "File \u001b[1;32mc:\\Users\\bengu\\.virtualenvs\\cfeproj-oIABPDjj\\lib\\site-packages\\keras\\src\\trainers\\compile_utils.py:237\u001b[0m, in \u001b[0;36mCompileMetrics._build_metrics_set\u001b[1;34m(self, metrics, num_outputs, output_names, y_true, y_pred, argument_name)\u001b[0m\n\u001b[0;32m    235\u001b[0m             metrics \u001b[38;5;241m=\u001b[39m [metrics]\n\u001b[0;32m    236\u001b[0m         \u001b[38;5;28;01mif\u001b[39;00m \u001b[38;5;129;01mnot\u001b[39;00m \u001b[38;5;28mall\u001b[39m(is_function_like(m) \u001b[38;5;28;01mfor\u001b[39;00m m \u001b[38;5;129;01min\u001b[39;00m metrics):\n\u001b[1;32m--> 237\u001b[0m             \u001b[38;5;28;01mraise\u001b[39;00m \u001b[38;5;167;01mValueError\u001b[39;00m(\n\u001b[0;32m    238\u001b[0m                 \u001b[38;5;124mf\u001b[39m\u001b[38;5;124m\"\u001b[39m\u001b[38;5;124mExpected all entries in the `\u001b[39m\u001b[38;5;132;01m{\u001b[39;00margument_name\u001b[38;5;132;01m}\u001b[39;00m\u001b[38;5;124m` list \u001b[39m\u001b[38;5;124m\"\u001b[39m\n\u001b[0;32m    239\u001b[0m                 \u001b[38;5;124mf\u001b[39m\u001b[38;5;124m\"\u001b[39m\u001b[38;5;124mto be metric objects. Received instead:\u001b[39m\u001b[38;5;130;01m\\n\u001b[39;00m\u001b[38;5;124m\"\u001b[39m\n\u001b[0;32m    240\u001b[0m                 \u001b[38;5;124mf\u001b[39m\u001b[38;5;124m\"\u001b[39m\u001b[38;5;132;01m{\u001b[39;00margument_name\u001b[38;5;132;01m}\u001b[39;00m\u001b[38;5;124m=\u001b[39m\u001b[38;5;132;01m{\u001b[39;00mmetrics\u001b[38;5;132;01m}\u001b[39;00m\u001b[38;5;124m\"\u001b[39m\n\u001b[0;32m    241\u001b[0m             )\n\u001b[0;32m    242\u001b[0m         flat_metrics\u001b[38;5;241m.\u001b[39mappend(\n\u001b[0;32m    243\u001b[0m             MetricsList(\n\u001b[0;32m    244\u001b[0m                 [\n\u001b[1;32m   (...)\u001b[0m\n\u001b[0;32m    249\u001b[0m             )\n\u001b[0;32m    250\u001b[0m         )\n\u001b[0;32m    251\u001b[0m \u001b[38;5;28;01melse\u001b[39;00m:\n",
      "\u001b[1;31mValueError\u001b[0m: Expected all entries in the `metrics` list to be metric objects. Received instead:\nmetrics=['mae', 25.74700927734375]"
     ]
    }
   ],
   "source": [
    "from sklearn.model_selection import train_test_split\n",
    "from sklearn.metrics import root_mean_squared_error\n",
    "from sklearn.metrics import r2_score\n",
    "from tensorflow import keras\n",
    "from tensorflow.keras import layers\n",
    "import tensorflow as tf\n",
    "\n",
    "model_results = {}\n",
    "models = {}\n",
    "\n",
    "input_dataframes = [rsh_yd_X, rsh_td_X, rc_yd_X, rc_td_X, rc_X, p_yd_X, p_td_X, intcpt_X, rsh_fmbls_X, rc_fmbls_X]  \n",
    "inputs = [rsh_yd_input_cols, rsh_td_input_cols, rc_yd_input_cols, rc_td_input_cols, rc_input_cols, p_yd_input_cols, p_td_input_cols, intcpt_input_cols, rsh_fmbls_input_cols, rc_fmbls_input_cols]\n",
    "targets = [\"rushing_yards\", \"rushing_tds\", \"receiving_yards\", \"receiving_tds\", \"receptions\", \"passing_yards\", \"passing_tds\", \"passing_interceptions\", \"rushing_fumbles_lost\", \"receiving_fumbles_lost\"]\n",
    "\n",
    "window = 64      # past steps to look at \n",
    "horizon = 1      # predict 1 step ahead\n",
    "\n",
    "def rmse(y_true, y_pred):\n",
    "    return tf.sqrt(tf.reduce_mean(tf.square(y_pred - y_true)))\n",
    "\n",
    "for df, input, target in zip(input_dataframes, inputs, targets):\n",
    "    X = df.dropna()[input + def_input_cols].reset_index(drop=True)\n",
    "    y = df.dropna()[target].reset_index(drop=True)\n",
    "\n",
    "    X_train, X_valid, y_train, y_valid = train_test_split(\n",
    "        X, y, test_size=0.2, random_state=42, shuffle=False\n",
    "    )\n",
    "\n",
    "    y_train = y_train.astype(\"float32\")\n",
    "    y_valid = y_valid.astype(\"float32\")\n",
    "\n",
    "    rnn = keras.Sequential([\n",
    "        layers.Input(shape=(window, 1)),\n",
    "        # Swap LSTM -> GRU by using layers.GRU(...)\n",
    "        layers.LSTM(64, return_sequences=True),\n",
    "        layers.LSTM(32),\n",
    "        layers.Dense(horizon)\n",
    "    ])\n",
    "\n",
    "    rnn.compile(optimizer=keras.optimizers.Adam(1e-3), loss=\"mse\", metrics=[\"mae\", rmse])\n",
    "    rnn.summary()\n",
    "\n",
    "    callbacks = [\n",
    "        keras.callbacks.ReduceLROnPlateau(factor=0.5, patience=3),\n",
    "        keras.callbacks.EarlyStopping(patience=8, restore_best_weights=True)\n",
    "    ]\n",
    "    \n",
    "    history = rnn.fit(\n",
    "        X_train, y_train,\n",
    "        validation_data=(X_valid, y_valid),\n",
    "        epochs=20,\n",
    "        batch_size=256,\n",
    "        callbacks=callbacks,\n",
    "        verbose=1\n",
    "    )\n",
    "    \n",
    "    # Evaluate\n",
    "    preds = rnn.predict(X_valid, batch_size=256)\n",
    "    rmse = root_mean_squared_error(y_valid, preds)\n",
    "\n",
    "    r2 = r2_score(y_valid, preds)\n",
    "\n",
    "    model_results[target] = {\"validation_rmse\": f\"{rmse:.4f}\", \"r2\": f\"{r2:.3f}\"}\n",
    "    models[target] = rnn\n"
   ]
  },
  {
   "cell_type": "code",
   "execution_count": 18,
   "id": "5e895170",
   "metadata": {},
   "outputs": [
    {
     "name": "stdout",
     "output_type": "stream",
     "text": [
      "{'rushing_yards': {'validation_rmse': '18.8798', 'r2': '0.462'}, 'rushing_tds': {'validation_rmse': '0.2902', 'r2': '0.223'}, 'receiving_yards': {'validation_rmse': '31.8813', 'r2': '-0.000'}, 'receiving_tds': {'validation_rmse': '0.3757', 'r2': '0.114'}, 'receptions': {'validation_rmse': '1.7227', 'r2': '0.457'}, 'passing_yards': {'validation_rmse': '197.2082', 'r2': '-2.812'}, 'passing_tds': {'validation_rmse': '1.0726', 'r2': '0.141'}, 'passing_interceptions': {'validation_rmse': '0.8427', 'r2': '0.018'}, 'rushing_fumbles_lost': {'validation_rmse': '0.1051', 'r2': '0.019'}, 'receiving_fumbles_lost': {'validation_rmse': '0.1070', 'r2': '0.017'}}\n"
     ]
    }
   ],
   "source": [
    "print(model_results)"
   ]
  },
  {
   "cell_type": "markdown",
   "id": "7808884e",
   "metadata": {},
   "source": [
    "### Check Sample Predictions"
   ]
  },
  {
   "cell_type": "code",
   "execution_count": 19,
   "id": "94dd0d4d",
   "metadata": {},
   "outputs": [],
   "source": [
    "# Params\n",
    "SEASON = 2025\n",
    "WEEK = 4\n",
    "\n",
    "# Map dataframe names to their corresponding input-cols variable names\n",
    "datasets = {\n",
    "    \"rsh_yd_X\": \"rsh_yd_input_cols\",\n",
    "    \"rsh_td_X\": \"rsh_td_input_cols\",\n",
    "    \"rc_yd_X\":  \"rc_yd_input_cols\",\n",
    "    \"rc_td_X\":  \"rc_td_input_cols\",\n",
    "    \"rc_X\":     \"rc_input_cols\",\n",
    "    \"p_yd_X\":   \"p_yd_input_cols\",\n",
    "    \"p_td_X\":   \"p_td_input_cols\",\n",
    "    \"intcpt_X\": \"intcpt_input_cols\",\n",
    "    \"rsh_fmbls_X\": \"rsh_fmbls_input_cols\",\n",
    "    \"rc_fmbls_X\":  \"rc_fmbls_input_cols\",\n",
    "}\n",
    "\n",
    "for df_name, cols_name in datasets.items():\n",
    "    df = globals()[df_name]\n",
    "    # 1) filter to current week\n",
    "    cw_filtered = (\n",
    "        df[(df[\"season\"] == SEASON) & (df[\"week\"] == WEEK)]\n",
    "        .dropna()\n",
    "        .reset_index(drop=True)\n",
    "    )\n",
    "    globals()[f\"cw_{df_name}\"] = cw_filtered\n"
   ]
  },
  {
   "cell_type": "code",
   "execution_count": 20,
   "id": "75cef1cc",
   "metadata": {},
   "outputs": [
    {
     "name": "stdout",
     "output_type": "stream",
     "text": [
      "\u001b[1m8/8\u001b[0m \u001b[32m━━━━━━━━━━━━━━━━━━━━\u001b[0m\u001b[37m\u001b[0m \u001b[1m0s\u001b[0m 11ms/step\n",
      "\u001b[1m8/8\u001b[0m \u001b[32m━━━━━━━━━━━━━━━━━━━━\u001b[0m\u001b[37m\u001b[0m \u001b[1m0s\u001b[0m 14ms/step\n",
      "\u001b[1m8/8\u001b[0m \u001b[32m━━━━━━━━━━━━━━━━━━━━\u001b[0m\u001b[37m\u001b[0m \u001b[1m0s\u001b[0m 13ms/step\n",
      "\u001b[1m8/8\u001b[0m \u001b[32m━━━━━━━━━━━━━━━━━━━━\u001b[0m\u001b[37m\u001b[0m \u001b[1m0s\u001b[0m 13ms/step\n",
      "\u001b[1m8/8\u001b[0m \u001b[32m━━━━━━━━━━━━━━━━━━━━\u001b[0m\u001b[37m\u001b[0m \u001b[1m0s\u001b[0m 13ms/step\n",
      "\u001b[1m2/2\u001b[0m \u001b[32m━━━━━━━━━━━━━━━━━━━━\u001b[0m\u001b[37m\u001b[0m \u001b[1m0s\u001b[0m 22ms/step\n",
      "\u001b[1m2/2\u001b[0m \u001b[32m━━━━━━━━━━━━━━━━━━━━\u001b[0m\u001b[37m\u001b[0m \u001b[1m0s\u001b[0m 32ms/step\n",
      "\u001b[1m2/2\u001b[0m \u001b[32m━━━━━━━━━━━━━━━━━━━━\u001b[0m\u001b[37m\u001b[0m \u001b[1m0s\u001b[0m 24ms/step\n",
      "\u001b[1m8/8\u001b[0m \u001b[32m━━━━━━━━━━━━━━━━━━━━\u001b[0m\u001b[37m\u001b[0m \u001b[1m0s\u001b[0m 13ms/step\n",
      "\u001b[1m8/8\u001b[0m \u001b[32m━━━━━━━━━━━━━━━━━━━━\u001b[0m\u001b[37m\u001b[0m \u001b[1m0s\u001b[0m 13ms/step\n"
     ]
    }
   ],
   "source": [
    "from collections import defaultdict\n",
    "input_dataframes = [cw_rsh_yd_X, cw_rsh_td_X, cw_rc_yd_X, cw_rc_td_X, cw_rc_X, cw_p_yd_X, cw_p_td_X, cw_intcpt_X, cw_rsh_fmbls_X, cw_rc_fmbls_X]\n",
    "inputs = [rsh_yd_input_cols, rsh_td_input_cols, rc_yd_input_cols, rc_td_input_cols, rc_input_cols, p_yd_input_cols, p_td_input_cols, intcpt_input_cols, rsh_fmbls_input_cols, rc_fmbls_input_cols]\n",
    "targets = [\"rushing_yards\", \"rushing_tds\", \"receiving_yards\", \"receiving_tds\", \"receptions\", \"passing_yards\", \"passing_tds\", \"passing_interceptions\", \"rushing_fumbles_lost\", \"receiving_fumbles_lost\"]\n",
    "\n",
    "player_projections = defaultdict(dict)\n",
    "\n",
    "for df, input, target in zip(input_dataframes, inputs, targets):\n",
    "    X = df.dropna()[input + def_input_cols].reset_index(drop=True)\n",
    "    y = df.dropna()[target].reset_index(drop=True)\n",
    "\n",
    "    # Get the model from saved\n",
    "    reg = models[target]\n",
    "\n",
    "    # Evaluate\n",
    "    preds = reg.predict(X)\n",
    "\n",
    "    for i, pred in enumerate(preds):\n",
    "        player_id, player_name = df.loc[i, \"player_id\"], df.loc[i, \"player_name\"]\n",
    "        if player_id not in player_projections:\n",
    "            player_projections[player_id][\"player_name\"] = player_name\n",
    "        \n",
    "        player_data = POSITION_PLAYER_STAT_PROJECTION_DATA_DICT[target].copy()\n",
    "        player_data[\"projection\"] = pred\n",
    "        player_data[\"true\"] = y.iloc[i]\n",
    "\n",
    "        player_projections[player_id][target] = player_data"
   ]
  },
  {
   "cell_type": "code",
   "execution_count": 21,
   "id": "7b2468ed",
   "metadata": {},
   "outputs": [],
   "source": [
    "week_4_projections = []\n",
    " \n",
    "for player_id, data in player_projections.items():\n",
    "    projected_points = 0\n",
    "    true_points = 0\n",
    "    for target in targets:\n",
    "        if target in data:\n",
    "            projected_points += data[target][\"projection\"] * data[target][\"weight\"]\n",
    "            true_points += data[target][\"true\"] * data[target][\"weight\"]\n",
    "\n",
    "    week_4_projections.append((data[\"player_name\"], projected_points, true_points))"
   ]
  },
  {
   "cell_type": "code",
   "execution_count": 22,
   "id": "d7b03f32",
   "metadata": {},
   "outputs": [
    {
     "name": "stdout",
     "output_type": "stream",
     "text": [
      "6.863065929306464 0.1942275666387382\n"
     ]
    }
   ],
   "source": [
    "true = [x[2] for x in week_4_projections]\n",
    "preds = [x[1] for x in week_4_projections]\n",
    "\n",
    "error = root_mean_squared_error(true, preds)\n",
    "r2 = r2_score(true, preds)\n",
    "print(error, r2)"
   ]
  }
 ],
 "metadata": {
  "kernelspec": {
   "display_name": "cfeproj-oIABPDjj",
   "language": "python",
   "name": "python3"
  },
  "language_info": {
   "codemirror_mode": {
    "name": "ipython",
    "version": 3
   },
   "file_extension": ".py",
   "mimetype": "text/x-python",
   "name": "python",
   "nbconvert_exporter": "python",
   "pygments_lexer": "ipython3",
   "version": "3.10.1"
  }
 },
 "nbformat": 4,
 "nbformat_minor": 5
}
