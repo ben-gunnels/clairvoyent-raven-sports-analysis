{
 "cells": [
  {
   "cell_type": "markdown",
   "id": "3413896b",
   "metadata": {},
   "source": [
    "# Exploring NFL Data from SportsDataIO Discovery Lab\n",
    "\n",
    "This notebook explores NFL data provided by SportsDataIO Discovery Lab. We'll analyze various aspects of the data, visualize trends, and document insights using markdown cells for clarity and reproducibility."
   ]
  },
  {
   "cell_type": "code",
   "execution_count": 1,
   "id": "21c1af5f",
   "metadata": {},
   "outputs": [],
   "source": [
    "# %pip install -r ../../requirements.txt"
   ]
  },
  {
   "cell_type": "code",
   "execution_count": null,
   "id": "3b27c86b",
   "metadata": {},
   "outputs": [
    {
     "name": "stdout",
     "output_type": "stream",
     "text": [
      "Project Root: c:\\Users\\bengu\\Documents\\Sports Analysis Project\\clairvoyent-raven-sports-analysis\\src\n",
      "Sys Path Before: ['c:\\\\Users\\\\bengu\\\\Documents\\\\Sports Analysis Project\\\\clairvoyent-raven-sports-analysis\\\\src', 'C:\\\\Users\\\\bengu\\\\AppData\\\\Local\\\\Programs\\\\Python\\\\Python310\\\\python310.zip', 'C:\\\\Users\\\\bengu\\\\AppData\\\\Local\\\\Programs\\\\Python\\\\Python310\\\\DLLs', 'C:\\\\Users\\\\bengu\\\\AppData\\\\Local\\\\Programs\\\\Python\\\\Python310\\\\lib', 'C:\\\\Users\\\\bengu\\\\AppData\\\\Local\\\\Programs\\\\Python\\\\Python310', 'c:\\\\Users\\\\bengu\\\\.virtualenvs\\\\cfeproj-oIABPDjj', '', 'c:\\\\Users\\\\bengu\\\\.virtualenvs\\\\cfeproj-oIABPDjj\\\\lib\\\\site-packages', 'c:\\\\Users\\\\bengu\\\\.virtualenvs\\\\cfeproj-oIABPDjj\\\\lib\\\\site-packages\\\\win32', 'c:\\\\Users\\\\bengu\\\\.virtualenvs\\\\cfeproj-oIABPDjj\\\\lib\\\\site-packages\\\\win32\\\\lib', 'c:\\\\Users\\\\bengu\\\\.virtualenvs\\\\cfeproj-oIABPDjj\\\\lib\\\\site-packages\\\\Pythonwin']\n"
     ]
    },
    {
     "data": {
      "text/plain": [
       "True"
      ]
     },
     "execution_count": 2,
     "metadata": {},
     "output_type": "execute_result"
    }
   ],
   "source": [
    "import pandas as pd\n",
    "import numpy as np\n",
    "import os\n",
    "import sys\n",
    "\n",
    "project_root = os.path.abspath(os.path.join(os.getcwd(), os.pardir))\n",
    "print(f\"Project Root: {project_root}\")\n",
    "print(\"Sys Path Before:\", sys.path)\n",
    "if project_root not in sys.path:\n",
    "    print(\"Inserting project root to sys.path\")\n",
    "    sys.path.insert(0, project_root)\n",
    "\n",
    "# Now import\n",
    "from data_api import SportsDataIO\n",
    "from data_api import Yahoo\n",
    "from utils import describe_endpoint\n",
    "from yahoo_helpers import get_all_players, get_player_details, get_player_stats\n",
    "\n",
    "from dotenv import load_dotenv\n",
    "load_dotenv()"
   ]
  },
  {
   "cell_type": "code",
   "execution_count": 21,
   "id": "517fd71d",
   "metadata": {},
   "outputs": [
    {
     "name": "stderr",
     "output_type": "stream",
     "text": [
      "[2025-09-26 16:28:41,599 DEBUG] [yahoo_oauth.oauth.__init__] Checking \n",
      "[2025-09-26 16:28:41,606 DEBUG] [yahoo_oauth.oauth.token_is_valid] ELAPSED TIME : 2973.213094472885\n",
      "[2025-09-26 16:28:41,607 DEBUG] [yahoo_oauth.oauth.token_is_valid] TOKEN IS STILL VALID\n"
     ]
    },
    {
     "name": "stdout",
     "output_type": "stream",
     "text": [
      "Getting league key\n",
      "League key: 461.l.242497\n",
      "Total players loaded: 2158\n",
      "Error fetching details for A'Shawn Robinson: b'<?xml version=\"1.0\" encoding=\"UTF-8\"?>\\n<error xml:lang=\"en-us\" yahoo:uri=\"http://fantasysports.yahooapis.com/fantasy/v2/league/461.l.242497/players;search=A&amp;#39;Shawn%20Robinson/stats?format=json\" xmlns:yahoo=\"http://www.yahooapis.com/v1/base.rng\" xmlns=\"http://www.yahooapis.com/v1/base.rng\">\\n <description>invalid param search (was modified by yiv_get_stripped )</description>\\n <detail/>\\n</error>'\n"
     ]
    }
   ],
   "source": [
    "\"\"\"\n",
    "Use the Yahoo API to survey and assess the NFL fantasy football data available.\n",
    "\"\"\"\n",
    "yahoo_api = Yahoo()\n",
    "\n",
    "all_players = get_all_players()\n",
    "print(f\"Total players loaded: {len(all_players)}\")\n",
    "\n",
    "# Get details for a sample of players\n",
    "sample_player_details = get_player_details(yahoo_api, all_players[:5])\n",
    "\n",
    "player_ids = []\n",
    "for player in sample_player_details:\n",
    "    player_ids.append(player[\"player_id\"])\n",
    "\n",
    "sample_player_stats = get_player_stats(yahoo_api, [player_id for player_id in player_ids], req_type=\"week\", week=2)"
   ]
  },
  {
   "cell_type": "code",
   "execution_count": 22,
   "id": "76240129",
   "metadata": {},
   "outputs": [
    {
     "data": {
      "text/html": [
       "<div>\n",
       "<style scoped>\n",
       "    .dataframe tbody tr th:only-of-type {\n",
       "        vertical-align: middle;\n",
       "    }\n",
       "\n",
       "    .dataframe tbody tr th {\n",
       "        vertical-align: top;\n",
       "    }\n",
       "\n",
       "    .dataframe thead th {\n",
       "        text-align: right;\n",
       "    }\n",
       "</style>\n",
       "<table border=\"1\" class=\"dataframe\">\n",
       "  <thead>\n",
       "    <tr style=\"text-align: right;\">\n",
       "      <th></th>\n",
       "      <th>player_id</th>\n",
       "      <th>name</th>\n",
       "      <th>position_type</th>\n",
       "      <th>Pass Yds</th>\n",
       "      <th>Pass TD</th>\n",
       "      <th>Int</th>\n",
       "      <th>Rush Att</th>\n",
       "      <th>Rush Yds</th>\n",
       "      <th>Rush TD</th>\n",
       "      <th>Rec</th>\n",
       "      <th>Rec Yds</th>\n",
       "      <th>Rec TD</th>\n",
       "      <th>Ret TD</th>\n",
       "      <th>2-PT</th>\n",
       "      <th>Fum Lost</th>\n",
       "      <th>Targets</th>\n",
       "      <th>Fum Ret TD</th>\n",
       "      <th>total_points</th>\n",
       "    </tr>\n",
       "  </thead>\n",
       "  <tbody>\n",
       "    <tr>\n",
       "      <th>0</th>\n",
       "      <td>31883</td>\n",
       "      <td>A.J. Brown</td>\n",
       "      <td>O</td>\n",
       "      <td>0.0</td>\n",
       "      <td>0.0</td>\n",
       "      <td>0.0</td>\n",
       "      <td>0.0</td>\n",
       "      <td>0.0</td>\n",
       "      <td>0.0</td>\n",
       "      <td>5.0</td>\n",
       "      <td>27.0</td>\n",
       "      <td>0.0</td>\n",
       "      <td>0.0</td>\n",
       "      <td>0.0</td>\n",
       "      <td>0.0</td>\n",
       "      <td>8.0</td>\n",
       "      <td>0.0</td>\n",
       "      <td>5.20</td>\n",
       "    </tr>\n",
       "    <tr>\n",
       "      <th>1</th>\n",
       "      <td>40242</td>\n",
       "      <td>A.T. Perry</td>\n",
       "      <td>O</td>\n",
       "      <td>0.0</td>\n",
       "      <td>0.0</td>\n",
       "      <td>0.0</td>\n",
       "      <td>0.0</td>\n",
       "      <td>0.0</td>\n",
       "      <td>0.0</td>\n",
       "      <td>0.0</td>\n",
       "      <td>0.0</td>\n",
       "      <td>0.0</td>\n",
       "      <td>0.0</td>\n",
       "      <td>0.0</td>\n",
       "      <td>0.0</td>\n",
       "      <td>0.0</td>\n",
       "      <td>0.0</td>\n",
       "      <td>0.00</td>\n",
       "    </tr>\n",
       "  </tbody>\n",
       "</table>\n",
       "</div>"
      ],
      "text/plain": [
       "   player_id        name position_type  Pass Yds  Pass TD  Int  Rush Att  \\\n",
       "0      31883  A.J. Brown             O       0.0      0.0  0.0       0.0   \n",
       "1      40242  A.T. Perry             O       0.0      0.0  0.0       0.0   \n",
       "\n",
       "   Rush Yds  Rush TD  Rec  Rec Yds  Rec TD  Ret TD  2-PT  Fum Lost  Targets  \\\n",
       "0       0.0      0.0  5.0     27.0     0.0     0.0   0.0       0.0      8.0   \n",
       "1       0.0      0.0  0.0      0.0     0.0     0.0   0.0       0.0      0.0   \n",
       "\n",
       "   Fum Ret TD total_points  \n",
       "0         0.0         5.20  \n",
       "1         0.0         0.00  "
      ]
     },
     "execution_count": 22,
     "metadata": {},
     "output_type": "execute_result"
    }
   ],
   "source": [
    "sample_player_stats"
   ]
  },
  {
   "cell_type": "code",
   "execution_count": 3,
   "id": "ae38e92f",
   "metadata": {},
   "outputs": [
    {
     "name": "stderr",
     "output_type": "stream",
     "text": [
      "[2025-09-25 12:30:13,380 DEBUG] [yahoo_oauth.oauth.__init__] Checking \n",
      "[2025-09-25 12:30:13,380 DEBUG] [yahoo_oauth.oauth.token_is_valid] ELAPSED TIME : 454.56656861305237\n",
      "[2025-09-25 12:30:13,380 DEBUG] [yahoo_oauth.oauth.token_is_valid] TOKEN IS STILL VALID\n"
     ]
    },
    {
     "name": "stdout",
     "output_type": "stream",
     "text": [
      "Getting league key\n",
      "League key: 461.l.242497\n",
      "\n",
      "Endpoint: game_id\n",
      "\n",
      "Endpoint: league_ids\n",
      "\n",
      "Endpoint: current_week\n",
      "\n",
      "Endpoint: draft_results\n",
      "\n",
      "Endpoint: end_week\n",
      "\n",
      "Endpoint: player_details\n",
      "\n",
      "Endpoint: player_stats\n",
      "\n",
      "Endpoint: percent_owned\n",
      "\n",
      "Endpoint: positions\n",
      "\n",
      "Endpoint: stat_categories\n",
      "Wrote descriptions to ../../data/Yahoo_data_description.txt\n"
     ]
    }
   ],
   "source": [
    "\"\"\"\n",
    "    This script tests various endpoints of the Yahoo Sports API for NFL fantasy data.\n",
    "    It retrieves and displays data such as player details, team rosters, league settings, and more.\n",
    "\"\"\"\n",
    "\n",
    "endpoints = [\n",
    "    # GAME\n",
    "    (\"game_id\", lambda api: api.game.get_game_id()),\n",
    "    (\"league_ids\", lambda api: api.game.get_league_ids()),\n",
    "    # LEAGUE\n",
    "    (\"current_week\", lambda api: api.league.get_current_week()),\n",
    "    (\"draft_results\", lambda api: api.league.get_draft_results()),\n",
    "    (\"end_week\", lambda api: api.league.get_end_week()),\n",
    "    (\"player_details\", lambda api: api.league.get_player_details(player=\"Josh Allen\")),\n",
    "    (\"player_stats\", lambda api, player_id: api.league.get_player_stats(player_ids=[player_id])),\n",
    "    (\"percent_owned\", lambda api, player_id: api.league.get_percent_owned(player_ids=[player_id])),\n",
    "    (\"positions\", lambda api: api.league.get_positions()),\n",
    "    (\"stat_categories\", lambda api: api.league.get_stat_categories()),\n",
    "]\n",
    "\n",
    "# Initialize API\n",
    "def main():\n",
    "    api = Yahoo() \n",
    "\n",
    "    output_file = \"../../data/Yahoo_data_description.txt\"\n",
    "    with open(output_file, \"w\", encoding=\"utf-8\") as f:\n",
    "        f.write(\"Yahoo Endpoints DataFrame Info\\n\")\n",
    "        f.write(\"=\" * 70 + \"\\n\\n\")\n",
    "\n",
    "        for (name, func) in endpoints:\n",
    "            try:\n",
    "                if (name in [\"player_stats\", \"percent_owned\"]):\n",
    "                    df = func(api, player_id=player_id)\n",
    "                else:\n",
    "                    df = func(api)\n",
    "                if (name == \"player_details\") and (df is not None):\n",
    "                    player_id = df.iloc[0][\"player_id\"]\n",
    "                print(f\"\\nEndpoint: {name}\")\n",
    "                desc = describe_endpoint(name, df)\n",
    "            except Exception as e:\n",
    "                desc = f\"Endpoint: {name}\\n\"\n",
    "                desc += \"-\" * 50 + \"\\n\"\n",
    "                desc += f\"Error calling endpoint: {e}\\n\\n\"\n",
    "            f.write(desc)\n",
    "    print(f\"Wrote descriptions to {output_file}\")\n",
    "\n",
    "if __name__ == \"__main__\":\n",
    "    main()"
   ]
  },
  {
   "cell_type": "code",
   "execution_count": null,
   "id": "333c7d16",
   "metadata": {},
   "outputs": [
    {
     "name": "stdout",
     "output_type": "stream",
     "text": [
      "Wrote descriptions to ../data/SportsDataIO_data_description.txt\n"
     ]
    }
   ],
   "source": [
    "\"\"\"\n",
    "This script tests various endpoints of the SportsDataIO API and writes\n",
    "the structure of the returned DataFrames to a text file.\n",
    "\"\"\"\n",
    "\n",
    "# List of methods to test\n",
    "endpoints = [\n",
    "    # CORE\n",
    "    (\"bye_weeks\", lambda api: api.core.get_bye_weeks()),\n",
    "    (\"player_details\", lambda api: api.core.get_player_details()),\n",
    "    (\"rookie_details\", lambda api: api.core.get_rookie_details()),\n",
    "    (\"standings\", lambda api: api.core.get_standings()),\n",
    "    (\"teams\", lambda api: api.core.get_teams()),\n",
    "    (\"timeframes\", lambda api: api.core.get_timeframes()),\n",
    "    # FANTASY\n",
    "    # SKIP (\"dfs_slates_by_date\", lambda api: api.fantasy.get_dfs_slates_by_date()),\n",
    "    (\"dfs_slates_by_week\", lambda api: api.fantasy.get_dfs_slates_by_week()),\n",
    "    (\"defense_game_stats\",   lambda api: api.fantasy.get_defense_game_stats()),\n",
    "    (\"defense_season_stats\", lambda api: api.fantasy.get_defense_season_stats()),\n",
    "    (\"player_game_stats\",   lambda api: api.fantasy.get_player_game_stats()),\n",
    "    (\"player_season_stats\", lambda api: api.fantasy.get_player_season_stats()),\n",
    "    (\"projected_defense_game_stats\", lambda api: api.fantasy.get_projected_defense_game_stats()),\n",
    "    (\"projected_defense_season_stats\", lambda api: api.fantasy.get_projected_defense_season_stats()),\n",
    "    (\"projected_player_game_stats\", lambda api: api.fantasy.get_projected_player_game_stats()),\n",
    "    (\"projected_player_season_stats\", lambda api: api.fantasy.get_projected_player_season_stats()),\n",
    "    # ODDS\n",
    "    (\"pregame_odds\", lambda api: api.odds.get_pregame_odds()),\n",
    "    # SKIP (\"pregame_odds_line_movement\", lambda api: api.odds.get_pregame_odds_line_movement(scoreid)),\n",
    "    (\"scores\", lambda api: api.odds.get_scores()),\n",
    "    (\"stadiums\", lambda api: api.odds.get_stadiums()),\n",
    "    (\"team_game_stats\", lambda api: api.odds.get_team_game_stats()),\n",
    "    (\"team_season_stats\", lambda api: api.odds.get_team_season_stats())\n",
    "]\n",
    "\n",
    "def main():\n",
    "    api = SportsDataIO(os.getenv(\"SPORTS_DATA_IO_API_KEY\")) \n",
    "\n",
    "    output_file = \"../data/SportsDataIO_data_description.txt\"\n",
    "    with open(output_file, \"w\", encoding=\"utf-8\") as f:\n",
    "        f.write(\"SportsDataIO Endpoints DataFrame Info\\n\")\n",
    "        f.write(\"=\" * 70 + \"\\n\\n\")\n",
    "\n",
    "        for (name, func) in endpoints:\n",
    "            try:\n",
    "                df = func(api)\n",
    "                desc = describe_endpoint(name, df)\n",
    "            except Exception as e:\n",
    "                desc = f\"Endpoint: {name}\\n\"\n",
    "                desc += \"-\" * 50 + \"\\n\"\n",
    "                desc += f\"Error calling endpoint: {e}\\n\\n\"\n",
    "            f.write(desc)\n",
    "    print(f\"Wrote descriptions to {output_file}\")\n",
    "\n",
    "if __name__ == \"__main__\":\n",
    "    main()\n"
   ]
  }
 ],
 "metadata": {
  "kernelspec": {
   "display_name": "cfeproj-oIABPDjj",
   "language": "python",
   "name": "python3"
  },
  "language_info": {
   "codemirror_mode": {
    "name": "ipython",
    "version": 3
   },
   "file_extension": ".py",
   "mimetype": "text/x-python",
   "name": "python",
   "nbconvert_exporter": "python",
   "pygments_lexer": "ipython3",
   "version": "3.10.2"
  }
 },
 "nbformat": 4,
 "nbformat_minor": 5
}
