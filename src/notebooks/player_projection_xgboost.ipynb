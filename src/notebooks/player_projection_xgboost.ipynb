{
 "cells": [
  {
   "cell_type": "markdown",
   "id": "82f25c6f",
   "metadata": {},
   "source": [
    "# NFL Fantasy Football Projection Model Using XGBoost\n",
    "\n",
    "This notebook presents a comprehensive workflow for building an NFL fantasy football projection model using XGBoost. Data sources include Yahoo, Pro-Football Reference, and SportsDataIO. The goal is to leverage advanced machine learning techniques and rich datasets to generate accurate player projections for fantasy football analysis and decision-making.\n",
    "\n",
    "This notebook will use weekly data from the 2024 NFL Regular Season. "
   ]
  },
  {
   "cell_type": "code",
   "execution_count": 1,
   "id": "90518483",
   "metadata": {},
   "outputs": [
    {
     "name": "stdout",
     "output_type": "stream",
     "text": [
      "Project Root: c:\\Users\\bengu\\Documents\\Sports Analysis Project\\clairvoyent-raven-sports-analysis\\src\n",
      "Sys Path Before: ['C:\\\\Users\\\\bengu\\\\AppData\\\\Local\\\\Programs\\\\Python\\\\Python310\\\\python310.zip', 'C:\\\\Users\\\\bengu\\\\AppData\\\\Local\\\\Programs\\\\Python\\\\Python310\\\\DLLs', 'C:\\\\Users\\\\bengu\\\\AppData\\\\Local\\\\Programs\\\\Python\\\\Python310\\\\lib', 'C:\\\\Users\\\\bengu\\\\AppData\\\\Local\\\\Programs\\\\Python\\\\Python310', 'c:\\\\Users\\\\bengu\\\\.virtualenvs\\\\cfeproj-oIABPDjj', '', 'c:\\\\Users\\\\bengu\\\\.virtualenvs\\\\cfeproj-oIABPDjj\\\\lib\\\\site-packages', 'c:\\\\Users\\\\bengu\\\\.virtualenvs\\\\cfeproj-oIABPDjj\\\\lib\\\\site-packages\\\\win32', 'c:\\\\Users\\\\bengu\\\\.virtualenvs\\\\cfeproj-oIABPDjj\\\\lib\\\\site-packages\\\\win32\\\\lib', 'c:\\\\Users\\\\bengu\\\\.virtualenvs\\\\cfeproj-oIABPDjj\\\\lib\\\\site-packages\\\\Pythonwin']\n",
      "Inserting project root to sys.path\n"
     ]
    },
    {
     "data": {
      "text/plain": [
       "True"
      ]
     },
     "execution_count": 1,
     "metadata": {},
     "output_type": "execute_result"
    }
   ],
   "source": [
    "import pandas as pd\n",
    "import numpy as np\n",
    "import os\n",
    "import sys\n",
    "\n",
    "project_root = os.path.abspath(os.path.join(os.getcwd(), os.pardir))\n",
    "print(f\"Project Root: {project_root}\")\n",
    "print(\"Sys Path Before:\", sys.path)\n",
    "if project_root not in sys.path:\n",
    "    print(\"Inserting project root to sys.path\")\n",
    "    sys.path.insert(0, project_root)\n",
    "\n",
    "# Now import\n",
    "from data_api import SportsDataIO, Yahoo, PFR\n",
    "from utils import describe_endpoint\n",
    "from yahoo_helpers import get_all_players, get_player_details, get_player_stats\n",
    "\n",
    "from dotenv import load_dotenv\n",
    "load_dotenv()"
   ]
  },
  {
   "cell_type": "code",
   "execution_count": 2,
   "id": "1ec74be3",
   "metadata": {},
   "outputs": [
    {
     "name": "stderr",
     "output_type": "stream",
     "text": [
      "[2025-09-29 11:12:11,506 DEBUG] [yahoo_oauth.oauth.__init__] Checking \n",
      "[2025-09-29 11:12:11,516 DEBUG] [yahoo_oauth.oauth.token_is_valid] ELAPSED TIME : 764.3847229480743\n",
      "[2025-09-29 11:12:11,517 DEBUG] [yahoo_oauth.oauth.token_is_valid] TOKEN IS STILL VALID\n"
     ]
    },
    {
     "name": "stdout",
     "output_type": "stream",
     "text": [
      "Getting league key\n",
      "League key: 461.l.242497\n"
     ]
    }
   ],
   "source": [
    "# Initialize API wrappers\n",
    "sdio_api = SportsDataIO(api_key=os.getenv(\"SPORTS_DATA_IO_API_KEY\"))\n",
    "yahoo_api = Yahoo(os.getenv(\"YAHOO_OAUTH_KEYS_PATH\"))\n",
    "pfr_api = PFR()"
   ]
  },
  {
   "cell_type": "code",
   "execution_count": null,
   "id": "de561757",
   "metadata": {},
   "outputs": [],
   "source": [
    "\"\"\"\n",
    "Define data paradigms\n",
    "\n",
    "Position name-abbreviation mapping\n",
    "\"\"\"\n",
    "\n",
    "position_dict = {\n",
    "    \"rushing_and_receiving\": { 'RB', 'WR', 'TE', 'FB', 'QB' }, \n",
    "    \"kicking\": { 'K' },\n",
    "    \"passing\": { 'QB' },\n",
    "    \"defense\": { 'DE', 'CB', 'LB', 'FS','OLB', 'S', 'DT', 'ILB', 'DL', 'DB', 'SS', 'NT', }\n",
    "}\n"
   ]
  },
  {
   "cell_type": "markdown",
   "id": "011b922e",
   "metadata": {},
   "source": [
    "## Extract and Clean Necessary Data\n",
    "\n",
    "Needed data\n",
    "\n",
    "* 2024 Regular Season Weekly Stats (Sports Data IO)\n",
    "* 2023 Regular Season Yearly Stats (Yahoo Fantasy)\n"
   ]
  },
  {
   "cell_type": "code",
   "execution_count": 3,
   "id": "3d318ae3",
   "metadata": {},
   "outputs": [
    {
     "name": "stdout",
     "output_type": "stream",
     "text": [
      "Total players loaded: 2165\n"
     ]
    }
   ],
   "source": [
    "all_players = get_all_players()\n",
    "print(f\"Total players loaded: {len(all_players)}\")"
   ]
  },
  {
   "cell_type": "code",
   "execution_count": 12,
   "id": "d162f1d2",
   "metadata": {},
   "outputs": [],
   "source": [
    "player_game_stats_2024 = sdio_api.fantasy.get_player_game_stats(season=\"2024REG\", week=1)"
   ]
  },
  {
   "cell_type": "code",
   "execution_count": 13,
   "id": "7c8e3f8e",
   "metadata": {},
   "outputs": [
    {
     "data": {
      "text/plain": [
       "array(['RB', 'QB', 'WR', 'K', 'DE', 'CB', 'LB', 'FS', 'TE', 'OLB', 'S',\n",
       "       'DT', 'ILB', 'DL', 'DB', 'SS', 'NT', 'FB', 'OT', 'OL', 'LS', 'G',\n",
       "       'C', 'P'], dtype=object)"
      ]
     },
     "execution_count": 13,
     "metadata": {},
     "output_type": "execute_result"
    }
   ],
   "source": [
    "player_game_stats_2024[\"Position\"].unique()"
   ]
  },
  {
   "cell_type": "markdown",
   "id": "003fc34a",
   "metadata": {},
   "source": [
    "## Apply the XGBoost Model"
   ]
  },
  {
   "cell_type": "code",
   "execution_count": null,
   "id": "e0a06075",
   "metadata": {},
   "outputs": [],
   "source": [
    "import xgboost as xgb\n",
    "from sklearn.model_selection import train_test_split\n",
    "from sklearn.metrics import mean_squared_error\n",
    "from sklearn.datasets import fetch_california_housing"
   ]
  }
 ],
 "metadata": {
  "kernelspec": {
   "display_name": "cfeproj-oIABPDjj",
   "language": "python",
   "name": "python3"
  },
  "language_info": {
   "codemirror_mode": {
    "name": "ipython",
    "version": 3
   },
   "file_extension": ".py",
   "mimetype": "text/x-python",
   "name": "python",
   "nbconvert_exporter": "python",
   "pygments_lexer": "ipython3",
   "version": "3.10.2"
  }
 },
 "nbformat": 4,
 "nbformat_minor": 5
}
