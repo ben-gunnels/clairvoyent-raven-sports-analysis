{
 "cells": [
  {
   "cell_type": "markdown",
   "id": "82f25c6f",
   "metadata": {},
   "source": [
    "# NFL Fantasy Football Projection Model Using XGBoost\n",
    "\n",
    "This notebook presents a comprehensive workflow for building an NFL fantasy football projection model using XGBoost. Data sources include Yahoo, Pro-Football Reference, and SportsDataIO. The goal is to leverage advanced machine learning techniques and rich datasets to generate accurate player projections for fantasy football analysis and decision-making.\n",
    "\n",
    "This notebook will use weekly data from the 2024 NFL Regular Season. "
   ]
  },
  {
   "cell_type": "code",
   "execution_count": 1,
   "id": "90518483",
   "metadata": {},
   "outputs": [
    {
     "name": "stdout",
     "output_type": "stream",
     "text": [
      "Project Root: c:\\Users\\bengu\\Documents\\Sports Analysis Project\\clairvoyent-raven-sports-analysis\\src\n",
      "Sys Path Before: ['C:\\\\Users\\\\bengu\\\\AppData\\\\Local\\\\Programs\\\\Python\\\\Python310\\\\python310.zip', 'C:\\\\Users\\\\bengu\\\\AppData\\\\Local\\\\Programs\\\\Python\\\\Python310\\\\DLLs', 'C:\\\\Users\\\\bengu\\\\AppData\\\\Local\\\\Programs\\\\Python\\\\Python310\\\\lib', 'C:\\\\Users\\\\bengu\\\\AppData\\\\Local\\\\Programs\\\\Python\\\\Python310', 'c:\\\\Users\\\\bengu\\\\.virtualenvs\\\\cfeproj-oIABPDjj', '', 'c:\\\\Users\\\\bengu\\\\.virtualenvs\\\\cfeproj-oIABPDjj\\\\lib\\\\site-packages', 'c:\\\\Users\\\\bengu\\\\.virtualenvs\\\\cfeproj-oIABPDjj\\\\lib\\\\site-packages\\\\win32', 'c:\\\\Users\\\\bengu\\\\.virtualenvs\\\\cfeproj-oIABPDjj\\\\lib\\\\site-packages\\\\win32\\\\lib', 'c:\\\\Users\\\\bengu\\\\.virtualenvs\\\\cfeproj-oIABPDjj\\\\lib\\\\site-packages\\\\Pythonwin']\n",
      "Inserting project root to sys.path\n"
     ]
    },
    {
     "data": {
      "text/plain": [
       "True"
      ]
     },
     "execution_count": 1,
     "metadata": {},
     "output_type": "execute_result"
    }
   ],
   "source": [
    "import pandas as pd\n",
    "import numpy as np\n",
    "import os\n",
    "import sys\n",
    "\n",
    "project_root = os.path.abspath(os.path.join(os.getcwd(), os.pardir))\n",
    "print(f\"Project Root: {project_root}\")\n",
    "print(\"Sys Path Before:\", sys.path)\n",
    "if project_root not in sys.path:\n",
    "    print(\"Inserting project root to sys.path\")\n",
    "    sys.path.insert(0, project_root)\n",
    "\n",
    "# Now import\n",
    "from data_api import SportsDataIO, Yahoo, PFR\n",
    "from utils import describe_endpoint\n",
    "from yahoo_helpers import get_all_players, get_player_details, get_player_stats\n",
    "\n",
    "from dotenv import load_dotenv\n",
    "load_dotenv()"
   ]
  },
  {
   "cell_type": "code",
   "execution_count": 2,
   "id": "1ec74be3",
   "metadata": {},
   "outputs": [
    {
     "name": "stderr",
     "output_type": "stream",
     "text": [
      "[2025-09-29 13:14:19,758 DEBUG] [yahoo_oauth.oauth.__init__] Checking \n",
      "[2025-09-29 13:14:19,763 DEBUG] [yahoo_oauth.oauth.token_is_valid] ELAPSED TIME : 1987.6880526542664\n",
      "[2025-09-29 13:14:19,765 DEBUG] [yahoo_oauth.oauth.token_is_valid] TOKEN IS STILL VALID\n"
     ]
    },
    {
     "name": "stdout",
     "output_type": "stream",
     "text": [
      "Getting league key\n",
      "League key: 461.l.242497\n"
     ]
    }
   ],
   "source": [
    "# Initialize API wrappers\n",
    "sdio_api = SportsDataIO(api_key=os.getenv(\"SPORTS_DATA_IO_API_KEY\"))\n",
    "yahoo_api = Yahoo(os.getenv(\"YAHOO_OAUTH_KEYS_PATH\"))\n",
    "pfr_api = PFR()"
   ]
  },
  {
   "cell_type": "code",
   "execution_count": 3,
   "id": "de561757",
   "metadata": {},
   "outputs": [],
   "source": [
    "\"\"\"\n",
    "Define data paradigms\n",
    "\n",
    "Position name-abbreviation mapping\n",
    "\"\"\"\n",
    "\n",
    "position_groups = {\n",
    "    \"rushing_and_receiving\": { 'RB', 'WR', 'TE', 'FB' },\n",
    "    \"kicking\": { 'K' },\n",
    "    \"passing\": { 'QB' },\n",
    "    \"defense\": { 'DE', 'CB', 'LB', 'FS','OLB', 'S', 'DT', 'ILB', 'DL', 'DB', 'SS', 'NT', }\n",
    "}\n"
   ]
  },
  {
   "cell_type": "markdown",
   "id": "011b922e",
   "metadata": {},
   "source": [
    "## Extract and Clean Necessary Data\n",
    "\n",
    "Needed data\n",
    "\n",
    "* 2024 Regular Season Weekly Stats (Sports Data IO)\n",
    "* 2023 Regular Season Yearly Stats (Pro Football Reference)\n",
    "\n",
    "Paradigm:\n",
    "1. Get player game data from the week prior to the week of interest from SportsDataIO (GameFrame).\n",
    "   Split up data by positional group.\n",
    "2. Get previous season data from Pro Football Reference (SeasonFrame). Iterate through names in the GameFrame.\n",
    "3. Merge the SeasonFrame with the GameFrame, matching Name in the GameFrame to query_name in SeasonFrame.\n"
   ]
  },
  {
   "cell_type": "code",
   "execution_count": 4,
   "id": "3d318ae3",
   "metadata": {},
   "outputs": [
    {
     "name": "stdout",
     "output_type": "stream",
     "text": [
      "Total players loaded: 2165\n"
     ]
    }
   ],
   "source": [
    "all_players = get_all_players()\n",
    "print(f\"Total players loaded: {len(all_players)}\")"
   ]
  },
  {
   "cell_type": "code",
   "execution_count": 5,
   "id": "d162f1d2",
   "metadata": {},
   "outputs": [],
   "source": [
    "player_game_stats_2024 = sdio_api.fantasy.get_player_game_stats(season=\"2024REG\", week=1)"
   ]
  },
  {
   "cell_type": "code",
   "execution_count": 6,
   "id": "059894c6",
   "metadata": {},
   "outputs": [],
   "source": [
    "# Initialize position separated dataframes\n",
    "rushing_and_receiving_df = player_game_stats_2024[player_game_stats_2024[\"Position\"].isin(position_groups[\"rushing_and_receiving\"])].reset_index(drop=True)\n",
    "kicking_df = player_game_stats_2024[player_game_stats_2024[\"Position\"].isin(position_groups[\"kicking\"])].reset_index(drop=True)\n",
    "passing_df = player_game_stats_2024[player_game_stats_2024[\"Position\"].isin(position_groups[\"passing\"])].reset_index(drop=True)\n",
    "# May use down the line\n",
    "defense_df = player_game_stats_2024[player_game_stats_2024[\"Position\"].isin(position_groups[\"defense\"])].reset_index(drop=True)"
   ]
  },
  {
   "cell_type": "code",
   "execution_count": 7,
   "id": "41ed3304",
   "metadata": {},
   "outputs": [
    {
     "name": "stdout",
     "output_type": "stream",
     "text": [
      "/players/A/AlleJo02.htm\n"
     ]
    }
   ],
   "source": [
    "name = passing_df.loc[0, \"Name\"]\n",
    "player_stats_df = pd.DataFrame(passing_df.loc[0]).T\n",
    "season_stats_df = pfr_api.get_player_stats(name, 2023)"
   ]
  },
  {
   "cell_type": "code",
   "execution_count": 8,
   "id": "f43e2865",
   "metadata": {},
   "outputs": [],
   "source": [
    "season_stats_df = season_stats_df.add_prefix(\"season_stats_\")"
   ]
  },
  {
   "cell_type": "code",
   "execution_count": 13,
   "id": "1913f4ad",
   "metadata": {},
   "outputs": [
    {
     "data": {
      "text/html": [
       "<div>\n",
       "<style scoped>\n",
       "    .dataframe tbody tr th:only-of-type {\n",
       "        vertical-align: middle;\n",
       "    }\n",
       "\n",
       "    .dataframe tbody tr th {\n",
       "        vertical-align: top;\n",
       "    }\n",
       "\n",
       "    .dataframe thead th {\n",
       "        text-align: right;\n",
       "    }\n",
       "</style>\n",
       "<table border=\"1\" class=\"dataframe\">\n",
       "  <thead>\n",
       "    <tr style=\"text-align: right;\">\n",
       "      <th></th>\n",
       "      <th>GameKey</th>\n",
       "      <th>PlayerID</th>\n",
       "      <th>SeasonType</th>\n",
       "      <th>Season</th>\n",
       "      <th>GameDate</th>\n",
       "      <th>Week</th>\n",
       "      <th>Team</th>\n",
       "      <th>Opponent</th>\n",
       "      <th>HomeOrAway</th>\n",
       "      <th>Number</th>\n",
       "      <th>...</th>\n",
       "      <th>season_stats_qbr</th>\n",
       "      <th>season_stats_pass_sacked</th>\n",
       "      <th>season_stats_pass_sacked_yds</th>\n",
       "      <th>season_stats_pass_sacked_pct</th>\n",
       "      <th>season_stats_pass_net_yds_per_att</th>\n",
       "      <th>season_stats_pass_adj_net_yds_per_att</th>\n",
       "      <th>season_stats_comebacks</th>\n",
       "      <th>season_stats_gwd</th>\n",
       "      <th>season_stats_av</th>\n",
       "      <th>season_stats_awards</th>\n",
       "    </tr>\n",
       "  </thead>\n",
       "  <tbody>\n",
       "    <tr>\n",
       "      <th>0</th>\n",
       "      <td>202410104</td>\n",
       "      <td>19801</td>\n",
       "      <td>1</td>\n",
       "      <td>2024</td>\n",
       "      <td>2024-09-08T13:00:00</td>\n",
       "      <td>1</td>\n",
       "      <td>BUF</td>\n",
       "      <td>ARI</td>\n",
       "      <td>HOME</td>\n",
       "      <td>17</td>\n",
       "      <td>...</td>\n",
       "      <td>69.6</td>\n",
       "      <td>24</td>\n",
       "      <td>152</td>\n",
       "      <td>3.98</td>\n",
       "      <td>6.89</td>\n",
       "      <td>6.51</td>\n",
       "      <td>2</td>\n",
       "      <td>4</td>\n",
       "      <td>18</td>\n",
       "      <td>AP MVP-5,AP OPoY-6</td>\n",
       "    </tr>\n",
       "  </tbody>\n",
       "</table>\n",
       "<p>1 rows × 115 columns</p>\n",
       "</div>"
      ],
      "text/plain": [
       "     GameKey PlayerID SeasonType Season             GameDate Week Team  \\\n",
       "0  202410104    19801          1   2024  2024-09-08T13:00:00    1  BUF   \n",
       "\n",
       "  Opponent HomeOrAway Number  ... season_stats_qbr season_stats_pass_sacked  \\\n",
       "0      ARI       HOME     17  ...             69.6                       24   \n",
       "\n",
       "  season_stats_pass_sacked_yds season_stats_pass_sacked_pct  \\\n",
       "0                          152                         3.98   \n",
       "\n",
       "  season_stats_pass_net_yds_per_att season_stats_pass_adj_net_yds_per_att  \\\n",
       "0                              6.89                                  6.51   \n",
       "\n",
       "  season_stats_comebacks season_stats_gwd season_stats_av season_stats_awards  \n",
       "0                      2                4              18  AP MVP-5,AP OPoY-6  \n",
       "\n",
       "[1 rows x 115 columns]"
      ]
     },
     "execution_count": 13,
     "metadata": {},
     "output_type": "execute_result"
    }
   ],
   "source": [
    "pd.concat([player_stats_df, season_stats_df.reset_index(drop=True)], axis=1)"
   ]
  },
  {
   "cell_type": "markdown",
   "id": "003fc34a",
   "metadata": {},
   "source": [
    "## Apply the XGBoost Model"
   ]
  },
  {
   "cell_type": "code",
   "execution_count": null,
   "id": "e0a06075",
   "metadata": {},
   "outputs": [],
   "source": [
    "import xgboost as xgb\n",
    "from sklearn.model_selection import train_test_split\n",
    "from sklearn.metrics import mean_squared_error\n",
    "from sklearn.datasets import fetch_california_housing"
   ]
  }
 ],
 "metadata": {
  "kernelspec": {
   "display_name": "cfeproj-oIABPDjj",
   "language": "python",
   "name": "python3"
  },
  "language_info": {
   "codemirror_mode": {
    "name": "ipython",
    "version": 3
   },
   "file_extension": ".py",
   "mimetype": "text/x-python",
   "name": "python",
   "nbconvert_exporter": "python",
   "pygments_lexer": "ipython3",
   "version": "3.10.2"
  }
 },
 "nbformat": 4,
 "nbformat_minor": 5
}
