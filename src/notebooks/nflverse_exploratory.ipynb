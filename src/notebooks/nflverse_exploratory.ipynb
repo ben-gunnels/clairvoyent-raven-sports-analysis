{
 "cells": [
  {
   "cell_type": "code",
   "execution_count": 1,
   "id": "f5313a94",
   "metadata": {},
   "outputs": [
    {
     "name": "stdout",
     "output_type": "stream",
     "text": [
      "Project Root: c:\\Users\\bengu\\Documents\\Sports Analysis Project\\clairvoyent-raven-sports-analysis\\src\n",
      "Sys Path Before: ['C:\\\\Users\\\\bengu\\\\AppData\\\\Local\\\\Programs\\\\Python\\\\Python310\\\\python310.zip', 'C:\\\\Users\\\\bengu\\\\AppData\\\\Local\\\\Programs\\\\Python\\\\Python310\\\\DLLs', 'C:\\\\Users\\\\bengu\\\\AppData\\\\Local\\\\Programs\\\\Python\\\\Python310\\\\lib', 'C:\\\\Users\\\\bengu\\\\AppData\\\\Local\\\\Programs\\\\Python\\\\Python310', 'c:\\\\Users\\\\bengu\\\\.virtualenvs\\\\cfeproj-oIABPDjj', '', 'c:\\\\Users\\\\bengu\\\\.virtualenvs\\\\cfeproj-oIABPDjj\\\\lib\\\\site-packages', 'c:\\\\Users\\\\bengu\\\\.virtualenvs\\\\cfeproj-oIABPDjj\\\\lib\\\\site-packages\\\\win32', 'c:\\\\Users\\\\bengu\\\\.virtualenvs\\\\cfeproj-oIABPDjj\\\\lib\\\\site-packages\\\\win32\\\\lib', 'c:\\\\Users\\\\bengu\\\\.virtualenvs\\\\cfeproj-oIABPDjj\\\\lib\\\\site-packages\\\\Pythonwin']\n",
      "Inserting project root to sys.path\n"
     ]
    },
    {
     "data": {
      "text/plain": [
       "True"
      ]
     },
     "execution_count": 1,
     "metadata": {},
     "output_type": "execute_result"
    }
   ],
   "source": [
    "import pandas as pd\n",
    "import numpy as np\n",
    "import os\n",
    "import sys\n",
    "\n",
    "project_root = os.path.abspath(os.path.join(os.getcwd(), os.pardir))\n",
    "print(f\"Project Root: {project_root}\")\n",
    "print(\"Sys Path Before:\", sys.path)\n",
    "if project_root not in sys.path:\n",
    "    print(\"Inserting project root to sys.path\")\n",
    "    sys.path.insert(0, project_root)\n",
    "\n",
    "# Now import\n",
    "from data_api import SportsDataIO, Yahoo, PFR\n",
    "import utils\n",
    "import yahoo_helpers\n",
    "\n",
    "from dotenv import load_dotenv\n",
    "load_dotenv()"
   ]
  },
  {
   "cell_type": "markdown",
   "id": "b1806398",
   "metadata": {},
   "source": [
    "## Import and clean data from nflverse source"
   ]
  },
  {
   "cell_type": "code",
   "execution_count": 2,
   "id": "fbca551e",
   "metadata": {},
   "outputs": [],
   "source": [
    "NFLVERSE_DATA_PATH = r\"C:\\Users\\bengu\\Documents\\Sports Analysis Project\\clairvoyent-raven-sports-analysis\\data\\nfl_player_stats_cleaned.csv\"\n",
    "\n",
    "all_players_df = pd.read_csv(NFLVERSE_DATA_PATH)"
   ]
  },
  {
   "cell_type": "code",
   "execution_count": 3,
   "id": "8e7775d4",
   "metadata": {},
   "outputs": [],
   "source": [
    "column_categories = {\n",
    "    \"standard\": {\n",
    "        \"player_id\",\n",
    "        \"player_name\",\n",
    "        \"position\",\n",
    "        \"position_group\",\n",
    "        \"season\",\n",
    "        \"week\",\n",
    "        \"season_type\",\n",
    "        \"team\",\n",
    "        \"opponent_team\",\n",
    "        \"pacr\",\n",
    "    },\n",
    "    \"passing\": {\n",
    "        \"completions\",\n",
    "        \"attempts\",\n",
    "        \"passing_yards\",\n",
    "        \"passing_tds\",\n",
    "        \"passing_interceptions\",\n",
    "        \"sacks_suffered\",\n",
    "        \"sack_yards_lost\",\n",
    "        \"sack_fumbles\",\n",
    "        \"sack_fumbles_lost\",\n",
    "        \"passing_air_yards\",\n",
    "        \"passing_yards_after_catch\",\n",
    "        \"passing_first_downs\",\n",
    "        \"passing_epa\",\n",
    "        \"passing_cpoe\",\n",
    "        \"passing_2pt_conversions\",\n",
    "        \"carries\", # Include rushing stats for QBs\n",
    "        \"rushing_yards\",\n",
    "        \"rushing_tds\",\n",
    "        \"rushing_fumbles\",\n",
    "        \"rushing_fumbles_lost\",\n",
    "        \"rushing_first_downs\",\n",
    "        \"rushing_epa\",\n",
    "        \"rushing_2pt_conversions\",\n",
    "    },\n",
    "    \"rushing_and_receiving\": {\n",
    "        \"carries\",\n",
    "        \"rushing_yards\",\n",
    "        \"rushing_tds\",\n",
    "        \"rushing_fumbles\",\n",
    "        \"rushing_fumbles_lost\",\n",
    "        \"rushing_first_downs\",\n",
    "        \"rushing_epa\",\n",
    "        \"rushing_2pt_conversions\",\n",
    "        \"receptions\",\n",
    "        \"targets\",\n",
    "        \"receiving_yards\",\n",
    "        \"receiving_tds\",\n",
    "        \"receiving_fumbles\",\n",
    "        \"receiving_fumbles_lost\",\n",
    "        \"receiving_air_yards\",\n",
    "        \"receiving_yards_after_catch\",\n",
    "        \"receiving_first_downs\",\n",
    "        \"rushing_epa\",\n",
    "        \"rushing_2pt_conversions\",\n",
    "        \"receptions\",\n",
    "        \"targets\",\n",
    "        \"receiving_yards\",\n",
    "        \"receiving_tds\",\n",
    "        \"receiving_fumbles\",\n",
    "        \"receiving_fumbles_lost\",\n",
    "        \"receiving_air_yards\",\n",
    "        \"receiving_yards_after_catch\",\n",
    "        \"receiving_first_downs\",\n",
    "        \"receiving_epa\",\n",
    "        \"receiving_2pt_conversions\",\n",
    "        \"racr\",\n",
    "        \"target_share\",\n",
    "        \"air_yards_share\",\n",
    "        \"wopr\",\n",
    "    },\n",
    "    \"defense\": {\n",
    "        \"special_teams_tds\",\n",
    "        \"def_tackles_solo\",\n",
    "        \"def_tackles_with_assist\",\n",
    "        \"def_tackle_assists\",\n",
    "        \"def_tackles_for_loss\",\n",
    "        \"def_tackles_for_loss_yards\",\n",
    "        \"def_fumbles_forced\",\n",
    "        \"def_sacks\",\n",
    "        \"def_sack_yards\",\n",
    "        \"def_qb_hits\",\n",
    "        \"def_interceptions\",\n",
    "        \"def_interception_yards\",\n",
    "        \"def_pass_defended\",\n",
    "        \"def_tds\",\n",
    "        \"def_fumbles\",\n",
    "        \"def_safeties\",\n",
    "        \"misc_yards\",\n",
    "        \"fumble_recovery_own\",\n",
    "        \"fumble_recovery_yards_own\",\n",
    "        \"fumble_recovery_opp\",\n",
    "        \"fumble_recovery_yards_opp\",\n",
    "        \"fumble_recovery_tds\",\n",
    "        \"penalties\",\n",
    "    },\n",
    "    \"kicking\": {\n",
    "        \"fg_made\",\n",
    "        \"fg_att\",\n",
    "        \"fg_missed\",\n",
    "        \"fg_blocked\",\n",
    "        \"fg_long\",\n",
    "        \"fg_pct\",\n",
    "        \"fg_made_0_19\",\n",
    "        \"fg_made_20_29\",\n",
    "        \"fg_made_30_39\",\n",
    "        \"fg_made_40_49\",\n",
    "        \"fg_made_50_59\",\n",
    "        \"fg_made_60_\",\n",
    "        \"fg_missed_0_19\",\n",
    "        \"fg_missed_20_29\",\n",
    "        \"fg_missed_30_39\",\n",
    "        \"fg_missed_40_49\",\n",
    "        \"fg_missed_50_59\",\n",
    "        \"fg_missed_60_\",\n",
    "        \"fg_made_list\",\n",
    "        \"fg_missed_list\",\n",
    "        \"fg_blocked_list\",\n",
    "        \"fg_made_distance\",\n",
    "        \"fg_missed_distance\",\n",
    "        \"fg_blocked_distance\",\n",
    "        \"pat_made\",\n",
    "        \"pat_att\",\n",
    "        \"pat_missed\",\n",
    "        \"pat_blocked\",\n",
    "        \"pat_pct\",\n",
    "        \"gwfg_made\",\n",
    "        \"gwfg_att\",\n",
    "        \"gwfg_missed\",\n",
    "        \"gwfg_blocked\",\n",
    "        \"gwfg_distance\",\n",
    "    },\n",
    "    \"special_teams\": {\n",
    "        \"punt_returns\",\n",
    "        \"punt_return_yards\",\n",
    "        \"kickoff_returns\",\n",
    "        \"kickoff_return_yards\",\n",
    "    },\n",
    "}\n",
    "\n",
    "categories_positions = {\n",
    "    \"passing\": [\"QB\"],\n",
    "    \"rushing_and_receiving\": [\"RB\", \"WR\"],\n",
    "    # Not available \"kicking\": [\"K\"] \n",
    "}\n"
   ]
  },
  {
   "cell_type": "code",
   "execution_count": 4,
   "id": "2f56736a",
   "metadata": {},
   "outputs": [],
   "source": [
    "# Establish dataframes for each positional group, filter by position value\n",
    "def filter_by_positional_group(df, category_key_a, category_key_b=\"standard\") -> pd.DataFrame:\n",
    "    new_df = df.loc[:, list(column_categories[category_key_a] | column_categories[category_key_b])]\n",
    "    new_df = new_df[new_df[\"position\"].isin(categories_positions[category_key_a])]\n",
    "    return new_df.reset_index(drop=True)\n",
    "\n",
    "# Data of interest\n",
    "passing_df = filter_by_positional_group(all_players_df, \"passing\")\n",
    "rushing_and_receiving_df = filter_by_positional_group(all_players_df, \"rushing_and_receiving\")\n",
    "\n",
    "# Save in case\n",
    "defense_df = all_players_df.loc[:, list(column_categories[\"standard\"] | column_categories[\"defense\"])]\n",
    "kicking_df = all_players_df.loc[:, list(column_categories[\"standard\"] | column_categories[\"kicking\"])]\n",
    "specials_teams_df = all_players_df.loc[:, list(column_categories[\"standard\"] | column_categories[\"special_teams\"])]\n",
    "\n",
    "# Give the dataframes each an alias\n",
    "passing_df.alias = \"passing_df\"\n",
    "rushing_and_receiving_df.alias = \"rushing_and_receiving_df\"\n",
    "defense_df.alias = \"defense_df\"\n",
    "kicking_df.alias = \"kicking_df\"\n",
    "specials_teams_df.alias = \"specials_teams_df\""
   ]
  },
  {
   "cell_type": "code",
   "execution_count": null,
   "id": "af1c018f",
   "metadata": {},
   "outputs": [
    {
     "name": "stdout",
     "output_type": "stream",
     "text": [
      "Checking passing_df for null values\n",
      "passing_df contains 0 null values.\n",
      "Checking rushing_and_receiving_df for null values\n",
      "rushing_and_receiving_df contains 0 null values.\n",
      "Checking defense_df for null values\n",
      "defense_df contains 0 null values.\n",
      "Checking kicking_df for null values\n",
      "kicking_df contains 0 null values.\n",
      "Checking specials_teams_df for null values\n",
      "specials_teams_df contains 0 null values.\n"
     ]
    }
   ],
   "source": [
    "for df in [passing_df, rushing_and_receiving_df, defense_df, kicking_df, specials_teams_df]:\n",
    "    null_values = 0\n",
    "    print(f\"Checking {df.alias} for null values\")\n",
    "    null_counts = df.isna().sum()\n",
    "\n",
    "    for column, count in zip(null_counts.index, null_counts):\n",
    "        if count != 0:\n",
    "            null_values += 1\n",
    "            print(f\"Column: {column} contains {count} null values.\")\n",
    "    \n",
    "    print(f\"{df.alias} contains {null_values} null values.\")\n",
    "\n",
    "df = None"
   ]
  },
  {
   "cell_type": "markdown",
   "id": "c2840d92",
   "metadata": {},
   "source": [
    "### Implement and Apply Model\n",
    "\n",
    "Implement multiple linear regression models to predict multiple statistics for rushers and receivers. \n",
    "\n",
    "* Define the targets: rushing_yards, rushing_tds, receiving_yards, receiving_tds"
   ]
  },
  {
   "cell_type": "code",
   "execution_count": 7,
   "id": "8e81076e",
   "metadata": {},
   "outputs": [
    {
     "data": {
      "text/plain": [
       "Index(['season_type', 'rushing_tds', 'receiving_epa', 'rushing_yards',\n",
       "       'rushing_fumbles_lost', 'position_group', 'position',\n",
       "       'receiving_2pt_conversions', 'team', 'season', 'racr', 'rushing_epa',\n",
       "       'week', 'opponent_team', 'rushing_fumbles', 'air_yards_share',\n",
       "       'receiving_tds', 'receiving_first_downs', 'wopr',\n",
       "       'receiving_yards_after_catch', 'player_id', 'receiving_air_yards',\n",
       "       'target_share', 'pacr', 'carries', 'targets', 'receiving_yards',\n",
       "       'receiving_fumbles_lost', 'receiving_fumbles', 'rushing_first_downs',\n",
       "       'player_name', 'rushing_2pt_conversions', 'receptions'],\n",
       "      dtype='object')"
      ]
     },
     "execution_count": 7,
     "metadata": {},
     "output_type": "execute_result"
    }
   ],
   "source": [
    "rushing_and_receiving_df.columns"
   ]
  },
  {
   "cell_type": "code",
   "execution_count": null,
   "id": "68947e58",
   "metadata": {},
   "outputs": [],
   "source": [
    "\"\"\"\n",
    "Collect xs, and ys.\n",
    "Normalize data using Z-score normalization\n",
    "(val - mean_val) / standard_deviation\n",
    "\n",
    "Create 4 buckets, one for each statistical category.\n",
    "\n",
    "Prefix   | Stat Category\n",
    "-------------------------\n",
    "rsh_yd_ -> rushing_yards\n",
    "rsh_td_ -> rushing_tds\n",
    "rc_yd_  -> receiving_yards\n",
    "rc_td_  -> receiving_tds\n",
    "\"\"\"\n",
    "\n",
    "inputs = {\n",
    "    \"rsh_yd\": [\"rushing_tds\", \"rushing_yards\", \"rushing_fumbles_lost\", \"racr\", \"rushing_epa\", \"rushing_fumbles\", \"carries\", \"pacr\", \"rushing_first_downs\", \"rushing_2pt_conversions\"],\n",
    "    \"rsh_td\": [\"rushing_tds\", \"rushing_yards\", \"rushing_fumbles_lost\", \"racr\", \"rushing_epa\", \"rushing_fumbles\", \"carries\", \"pacr\", \"rushing_first_downs\", \"rushing_2pt_conversions\"],\n",
    "    \"rc_yd\" : [\"receiving_epa\", \"receiving_2pt_conversions\", \"racr\", \"air_yards_share\", \"receiving_tds\", \"receiving_first_downs\", \"wopr\", \"receiving_yards_after_catch\", \"receiving_air_yards\", \"target_share\", \"pacr\", \"targets\", \"receiving_yards\", \"receiving_fumbles_lost\", \"receiving_fumbles_lost\", \"receptions\"],\n",
    "    \"rc_td\" : [\"receiving_epa\", \"receiving_2pt_conversions\", \"racr\", \"air_yards_share\", \"receiving_tds\", \"receiving_first_downs\", \"wopr\", \"receiving_yards_after_catch\", \"receiving_air_yards\", \"target_share\", \"pacr\", \"targets\", \"receiving_yards\", \"receiving_fumbles_lost\", \"receiving_fumbles_lost\", \"receptions\"],\n",
    "}\n",
    "\n",
    "# Stat 1 rushing_yards\n",
    "rsh_yd_X = rushing_and_receiving_df[inputs[\"rsh_yd\"] + [\"season\", \"week\", \"player_id\"]]\n",
    "# Stat 2 rushing_tds\n",
    "rsh_td_X = rushing_and_receiving_df[inputs[\"rsh_td\"] + [\"season\", \"week\", \"player_id\"]]\n",
    "# Stat 3 receiving_yards\n",
    "rc_yd_X = rushing_and_receiving_df[inputs[\"rc_yd\"] + [\"season\", \"week\", \"player_id\"]]\n",
    "# Stat 4 receiving_tds\n",
    "rc_td_X = rushing_and_receiving_df[inputs[\"rc_td\"] + [\"season\", \"week\", \"player_id\"]]"
   ]
  },
  {
   "cell_type": "code",
   "execution_count": 26,
   "id": "45e3ae5e",
   "metadata": {},
   "outputs": [],
   "source": [
    "# Collect rolling data by season-week\n",
    "rsh_yd_X = rsh_yd_X.sort_values([\"season\", \"week\", \"player_id\"])\n",
    "\n",
    "# Group by season + player_id, then apply rolling mean over 3 weeks\n",
    "rsh_yd_X[[f\"{c}_roll3_shift\" for c in inputs[\"rsh_yd\"]]] = (\n",
    "    rsh_yd_X.groupby([\"season\", \"player_id\"])[inputs[\"rsh_yd\"]]\n",
    "      .transform(lambda x: x.rolling(3, min_periods=1).mean().shift(1))\n",
    ")\n"
   ]
  },
  {
   "cell_type": "code",
   "execution_count": null,
   "id": "55348b70",
   "metadata": {},
   "outputs": [],
   "source": [
    "# Normalize the data using Z-Score Standardization (sklearn StandardScaler)\n",
    "from sklearn.preprocessing import StandardScaler\n",
    "\n",
    "rsh_yd_input_cols = [col + \"_roll3_shift\" for col in inputs[\"rsh_yd\"]]\n",
    "\n",
    "standard_scaler = StandardScaler()\n",
    "# Normalize the shifted rolling values only\n",
    "rsh_yd_X[rsh_yd_input_cols] = standard_scaler.fit_transform(rsh_yd_X[rsh_yd_input_cols])\n"
   ]
  },
  {
   "cell_type": "code",
   "execution_count": 38,
   "id": "5d6f4106",
   "metadata": {},
   "outputs": [
    {
     "data": {
      "text/plain": [
       "0.5834541796570684"
      ]
     },
     "execution_count": 38,
     "metadata": {},
     "output_type": "execute_result"
    }
   ],
   "source": [
    "# Create and apply the linear regression model\n",
    "from sklearn.linear_model import LinearRegression\n",
    "from sklearn.model_selection import train_test_split\n",
    "\n",
    "\n",
    "X = rsh_yd_X.dropna()[rsh_yd_input_cols].reset_index(drop=True)\n",
    "y = rsh_yd_X.dropna()[\"rushing_yards\"].reset_index(drop=True)\n",
    "\n",
    "X_train, X_test, y_train, y_test = train_test_split(X, y, test_size=0.1)\n",
    "\n",
    "reg = LinearRegression().fit(X_train, y_train)\n",
    "\n",
    "reg.score(X_test, y_test)\n"
   ]
  },
  {
   "cell_type": "code",
   "execution_count": 49,
   "id": "1a71da6b",
   "metadata": {},
   "outputs": [],
   "source": [
    "import random\n",
    "\n",
    "test_sample_indices = random.choices(range(len(X_test)), k=10)\n",
    "\n",
    "X_samples, y_samples = X_test.reset_index(drop=True).loc[test_sample_indices, :], y_test.reset_index(drop=True).loc[test_sample_indices]"
   ]
  },
  {
   "cell_type": "code",
   "execution_count": null,
   "id": "dbab4fcc",
   "metadata": {},
   "outputs": [],
   "source": [
    "preds = reg.predict(X_samples)"
   ]
  },
  {
   "cell_type": "code",
   "execution_count": 63,
   "id": "5b428530",
   "metadata": {},
   "outputs": [
    {
     "name": "stdout",
     "output_type": "stream",
     "text": [
      "Pred: 3.858858365850292, True: -6, Diff: 9.858858365850292\n",
      "Pred: 6.438288878236238, True: 0, Diff: 6.438288878236238\n",
      "Pred: 1.6895984991781265, True: 0, Diff: 1.6895984991781265\n",
      "Pred: 14.203571704841565, True: 22, Diff: -7.796428295158435\n",
      "Pred: 1.7389517302775452, True: 0, Diff: 1.7389517302775452\n",
      "Pred: 1.7389517302775452, True: 0, Diff: 1.7389517302775452\n",
      "Pred: 6.594065701418668, True: 13, Diff: -6.405934298581332\n",
      "Pred: 18.52405045787305, True: 16, Diff: 2.5240504578730487\n",
      "Pred: 19.196999617307682, True: 5, Diff: 14.196999617307682\n",
      "Pred: 1.7389517302775452, True: 0, Diff: 1.7389517302775452\n"
     ]
    }
   ],
   "source": [
    "for pred, true in zip(preds, y_samples.values):\n",
    "    diff = pred - true\n",
    "\n",
    "    print(f\"Pred: {pred}, True: {true}, Diff: {diff}\")"
   ]
  }
 ],
 "metadata": {
  "kernelspec": {
   "display_name": "cfeproj-oIABPDjj",
   "language": "python",
   "name": "python3"
  },
  "language_info": {
   "codemirror_mode": {
    "name": "ipython",
    "version": 3
   },
   "file_extension": ".py",
   "mimetype": "text/x-python",
   "name": "python",
   "nbconvert_exporter": "python",
   "pygments_lexer": "ipython3",
   "version": "3.10.2"
  }
 },
 "nbformat": 4,
 "nbformat_minor": 5
}
