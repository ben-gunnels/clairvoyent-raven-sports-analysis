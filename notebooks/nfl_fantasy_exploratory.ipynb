{
 "cells": [
  {
   "cell_type": "markdown",
   "id": "3413896b",
   "metadata": {},
   "source": [
    "# Exploring NFL Data from SportsDataIO Discovery Lab\n",
    "\n",
    "This notebook explores NFL data provided by SportsDataIO Discovery Lab. We'll analyze various aspects of the data, visualize trends, and document insights using markdown cells for clarity and reproducibility."
   ]
  },
  {
   "cell_type": "code",
   "execution_count": null,
   "id": "3b27c86b",
   "metadata": {},
   "outputs": [
    {
     "ename": "ModuleNotFoundError",
     "evalue": "No module named 'yahoo_oauth'",
     "output_type": "error",
     "traceback": [
      "\u001b[1;31m---------------------------------------------------------------------------\u001b[0m",
      "\u001b[1;31mModuleNotFoundError\u001b[0m                       Traceback (most recent call last)",
      "\u001b[1;32m~\\AppData\\Local\\Temp/ipykernel_6876/349636902.py\u001b[0m in \u001b[0;36m<module>\u001b[1;34m\u001b[0m\n\u001b[0;32m     10\u001b[0m \u001b[1;33m\u001b[0m\u001b[0m\n\u001b[0;32m     11\u001b[0m \u001b[1;31m# Now import\u001b[0m\u001b[1;33m\u001b[0m\u001b[1;33m\u001b[0m\u001b[0m\n\u001b[1;32m---> 12\u001b[1;33m \u001b[1;32mfrom\u001b[0m \u001b[0msrc\u001b[0m\u001b[1;33m.\u001b[0m\u001b[0mdata_api\u001b[0m \u001b[1;32mimport\u001b[0m \u001b[0mSportsDataIO\u001b[0m\u001b[1;33m\u001b[0m\u001b[1;33m\u001b[0m\u001b[0m\n\u001b[0m\u001b[0;32m     13\u001b[0m \u001b[1;32mfrom\u001b[0m \u001b[0msrc\u001b[0m\u001b[1;33m.\u001b[0m\u001b[0mdata_api\u001b[0m \u001b[1;32mimport\u001b[0m \u001b[0mYahoo\u001b[0m\u001b[1;33m\u001b[0m\u001b[1;33m\u001b[0m\u001b[0m\n\u001b[0;32m     14\u001b[0m \u001b[1;33m\u001b[0m\u001b[0m\n",
      "\u001b[1;32mc:\\Users\\bengu\\Documents\\Sports Analysis Project\\clairvoyent-raven-sports-analysis\\src\\data_api\\__init__.py\u001b[0m in \u001b[0;36m<module>\u001b[1;34m\u001b[0m\n\u001b[0;32m      1\u001b[0m \u001b[1;32mfrom\u001b[0m \u001b[1;33m.\u001b[0m\u001b[0mSportsDataIO\u001b[0m \u001b[1;32mimport\u001b[0m \u001b[0mSportsDataIO\u001b[0m\u001b[1;33m\u001b[0m\u001b[1;33m\u001b[0m\u001b[0m\n\u001b[1;32m----> 2\u001b[1;33m \u001b[1;32mfrom\u001b[0m \u001b[1;33m.\u001b[0m\u001b[0mYahoo\u001b[0m \u001b[1;32mimport\u001b[0m \u001b[0mYahoo\u001b[0m\u001b[1;33m\u001b[0m\u001b[1;33m\u001b[0m\u001b[0m\n\u001b[0m\u001b[0;32m      3\u001b[0m \u001b[1;33m\u001b[0m\u001b[0m\n\u001b[0;32m      4\u001b[0m \u001b[0m__all__\u001b[0m \u001b[1;33m=\u001b[0m \u001b[1;33m[\u001b[0m\u001b[1;34m\"SportsDataIO\"\u001b[0m\u001b[1;33m,\u001b[0m \u001b[1;34m\"Yahoo\"\u001b[0m\u001b[1;33m]\u001b[0m\u001b[1;33m\u001b[0m\u001b[1;33m\u001b[0m\u001b[0m\n",
      "\u001b[1;32mc:\\Users\\bengu\\Documents\\Sports Analysis Project\\clairvoyent-raven-sports-analysis\\src\\data_api\\Yahoo.py\u001b[0m in \u001b[0;36m<module>\u001b[1;34m\u001b[0m\n\u001b[1;32m----> 1\u001b[1;33m \u001b[1;32mfrom\u001b[0m \u001b[0myahoo_oauth\u001b[0m \u001b[1;32mimport\u001b[0m \u001b[0mOAuth2\u001b[0m\u001b[1;33m\u001b[0m\u001b[1;33m\u001b[0m\u001b[0m\n\u001b[0m\u001b[0;32m      2\u001b[0m \u001b[1;32mfrom\u001b[0m \u001b[0myahoo_fantasy_api\u001b[0m \u001b[1;32mimport\u001b[0m \u001b[0mgame\u001b[0m\u001b[1;33m,\u001b[0m \u001b[0mleague\u001b[0m\u001b[1;33m\u001b[0m\u001b[1;33m\u001b[0m\u001b[0m\n\u001b[0;32m      3\u001b[0m \u001b[1;32mfrom\u001b[0m \u001b[0mdatetime\u001b[0m \u001b[1;32mimport\u001b[0m \u001b[0mdatetime\u001b[0m\u001b[1;33m\u001b[0m\u001b[1;33m\u001b[0m\u001b[0m\n\u001b[0;32m      4\u001b[0m \u001b[1;32mimport\u001b[0m \u001b[0mos\u001b[0m\u001b[1;33m\u001b[0m\u001b[1;33m\u001b[0m\u001b[0m\n\u001b[0;32m      5\u001b[0m \u001b[1;32mfrom\u001b[0m \u001b[0mdotenv\u001b[0m \u001b[1;32mimport\u001b[0m \u001b[0mload_dotenv\u001b[0m\u001b[1;33m\u001b[0m\u001b[1;33m\u001b[0m\u001b[0m\n",
      "\u001b[1;31mModuleNotFoundError\u001b[0m: No module named 'yahoo_oauth'"
     ]
    }
   ],
   "source": [
    "import pandas as pd\n",
    "import numpy as np\n",
    "import os\n",
    "import sys\n",
    "\n",
    "# Get the path to the project root (assuming notebooks/ and src/ are siblings)\n",
    "project_root = os.path.abspath(os.path.join(os.getcwd(), os.pardir))\n",
    "if project_root not in sys.path:\n",
    "    sys.path.insert(0, project_root)\n",
    "\n",
    "# Now import\n",
    "from src.data_api import SportsDataIO\n",
    "\n",
    "from dotenv import load_dotenv\n",
    "load_dotenv()"
   ]
  },
  {
   "cell_type": "code",
   "execution_count": 11,
   "id": "333c7d16",
   "metadata": {},
   "outputs": [
    {
     "name": "stdout",
     "output_type": "stream",
     "text": [
      "Wrote descriptions to ../data/SportsDataIO_data_description.txt\n"
     ]
    }
   ],
   "source": [
    "\"\"\"\n",
    "This script tests various endpoints of the SportsDataIO API and writes\n",
    "the structure of the returned DataFrames to a text file.\n",
    "\"\"\"\n",
    "\n",
    "# List of methods to test\n",
    "endpoints = [\n",
    "    # CORE\n",
    "    (\"bye_weeks\", lambda api: api.core.get_bye_weeks()),\n",
    "    (\"player_details\", lambda api: api.core.get_player_details()),\n",
    "    (\"rookie_details\", lambda api: api.core.get_rookie_details()),\n",
    "    (\"standings\", lambda api: api.core.get_standings()),\n",
    "    (\"teams\", lambda api: api.core.get_teams()),\n",
    "    (\"timeframes\", lambda api: api.core.get_timeframes()),\n",
    "    # FANTASY\n",
    "    # SKIP (\"dfs_slates_by_date\", lambda api: api.fantasy.get_dfs_slates_by_date()),\n",
    "    (\"dfs_slates_by_week\", lambda api: api.fantasy.get_dfs_slates_by_week()),\n",
    "    (\"defense_game_stats\",   lambda api: api.fantasy.get_defense_game_stats()),\n",
    "    (\"defense_season_stats\", lambda api: api.fantasy.get_defense_season_stats()),\n",
    "    (\"player_game_stats\",   lambda api: api.fantasy.get_player_game_stats()),\n",
    "    (\"player_season_stats\", lambda api: api.fantasy.get_player_season_stats()),\n",
    "    (\"projected_defense_game_stats\", lambda api: api.fantasy.get_projected_defense_game_stats()),\n",
    "    (\"projected_defense_season_stats\", lambda api: api.fantasy.get_projected_defense_season_stats()),\n",
    "    (\"projected_player_game_stats\", lambda api: api.fantasy.get_projected_player_game_stats()),\n",
    "    (\"projected_player_season_stats\", lambda api: api.fantasy.get_projected_player_season_stats()),\n",
    "    # ODDS\n",
    "    (\"pregame_odds\", lambda api: api.odds.get_pregame_odds()),\n",
    "    # SKIP (\"pregame_odds_line_movement\", lambda api: api.odds.get_pregame_odds_line_movement(scoreid)),\n",
    "    (\"scores\", lambda api: api.odds.get_scores()),\n",
    "    (\"stadiums\", lambda api: api.odds.get_stadiums()),\n",
    "    (\"team_game_stats\", lambda api: api.odds.get_team_game_stats()),\n",
    "    (\"team_season_stats\", lambda api: api.odds.get_team_season_stats())\n",
    "]\n",
    "\n",
    "def describe_endpoint(name, df):\n",
    "    \"\"\"Formats the DataFrame info string for writing.\"\"\"\n",
    "    buf = []\n",
    "    buf.append(f\"Endpoint: {name}\")\n",
    "    buf.append(\"-\" * 50)\n",
    "    # Capture the output of df.info()\n",
    "    from io import StringIO\n",
    "    s = StringIO()\n",
    "    df.info(buf=s)\n",
    "    s.seek(0)\n",
    "    buf.append(s.read().rstrip())\n",
    "    buf.append(\"-\"*50)\n",
    "    buf.append(\"\\n\")  # blank line between endpoints\n",
    "    return \"\\n\".join(buf)\n",
    "\n",
    "def main():\n",
    "    api = SportsDataIO(os.getenv(\"SPORTS_DATA_IO_API_KEY\")) \n",
    "\n",
    "    output_file = \"../data/SportsDataIO_data_description.txt\"\n",
    "    with open(output_file, \"w\", encoding=\"utf-8\") as f:\n",
    "        f.write(\"SportsDataIO Endpoints DataFrame Info\\n\")\n",
    "        f.write(\"=\" * 70 + \"\\n\\n\")\n",
    "\n",
    "        for (name, func) in endpoints:\n",
    "            try:\n",
    "                df = func(api)\n",
    "                desc = describe_endpoint(name, df)\n",
    "            except Exception as e:\n",
    "                desc = f\"Endpoint: {name}\\n\"\n",
    "                desc += \"-\" * 50 + \"\\n\"\n",
    "                desc += f\"Error calling endpoint: {e}\\n\\n\"\n",
    "            f.write(desc)\n",
    "    print(f\"Wrote descriptions to {output_file}\")\n",
    "\n",
    "if __name__ == \"__main__\":\n",
    "    main()\n"
   ]
  }
 ],
 "metadata": {
  "kernelspec": {
   "display_name": "Python 3",
   "language": "python",
   "name": "python3"
  },
  "language_info": {
   "codemirror_mode": {
    "name": "ipython",
    "version": 3
   },
   "file_extension": ".py",
   "mimetype": "text/x-python",
   "name": "python",
   "nbconvert_exporter": "python",
   "pygments_lexer": "ipython3",
   "version": "3.10.2"
  }
 },
 "nbformat": 4,
 "nbformat_minor": 5
}
